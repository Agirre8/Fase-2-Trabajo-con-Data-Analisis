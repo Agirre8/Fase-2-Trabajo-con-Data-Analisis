{
 "cells": [
  {
   "cell_type": "code",
   "execution_count": 1250,
   "id": "a5a6255c-0813-46bd-8e39-6bf6cbdf2e35",
   "metadata": {},
   "outputs": [],
   "source": [
    "import pandas as pd\n",
    "import seaborn as sns\n",
    "import matplotlib.pyplot as plt\n",
    "import numpy as np\n",
    "from sklearn.preprocessing import LabelEncoder\n",
    "%matplotlib inline\n"
   ]
  },
  {
   "cell_type": "code",
   "execution_count": 1251,
   "id": "a4b62e28-7ad5-47cf-a64f-84c0873fcf22",
   "metadata": {},
   "outputs": [],
   "source": [
    "data= pd.read_csv('imdb_top_1000_1.csv')"
   ]
  },
  {
   "cell_type": "code",
   "execution_count": 1253,
   "id": "444d59c3-5cce-4601-a05a-7f4b4ae47894",
   "metadata": {},
   "outputs": [
    {
     "data": {
      "text/html": [
       "<div>\n",
       "<style scoped>\n",
       "    .dataframe tbody tr th:only-of-type {\n",
       "        vertical-align: middle;\n",
       "    }\n",
       "\n",
       "    .dataframe tbody tr th {\n",
       "        vertical-align: top;\n",
       "    }\n",
       "\n",
       "    .dataframe thead th {\n",
       "        text-align: right;\n",
       "    }\n",
       "</style>\n",
       "<table border=\"1\" class=\"dataframe\">\n",
       "  <thead>\n",
       "    <tr style=\"text-align: right;\">\n",
       "      <th></th>\n",
       "      <th>IMDB_Rating</th>\n",
       "      <th>Series_Title</th>\n",
       "      <th>Released_Year</th>\n",
       "      <th>Certificate</th>\n",
       "      <th>Runtime</th>\n",
       "      <th>Overview</th>\n",
       "      <th>Meta_score</th>\n",
       "      <th>Director</th>\n",
       "      <th>Star1</th>\n",
       "      <th>Star2</th>\n",
       "      <th>No_of_Votes</th>\n",
       "      <th>Gross</th>\n",
       "      <th>Genre_0</th>\n",
       "      <th>Genre_1</th>\n",
       "      <th>Genre_2</th>\n",
       "    </tr>\n",
       "  </thead>\n",
       "  <tbody>\n",
       "    <tr>\n",
       "      <th>0</th>\n",
       "      <td>9.3</td>\n",
       "      <td>The Shawshank Redemption</td>\n",
       "      <td>1994</td>\n",
       "      <td>A</td>\n",
       "      <td>142 min</td>\n",
       "      <td>Two imprisoned men bond over a number of years...</td>\n",
       "      <td>80.0</td>\n",
       "      <td>Frank Darabont</td>\n",
       "      <td>Tim Robbins</td>\n",
       "      <td>Morgan Freeman</td>\n",
       "      <td>2343110</td>\n",
       "      <td>28,341,469</td>\n",
       "      <td>Drama</td>\n",
       "      <td>NaN</td>\n",
       "      <td>NaN</td>\n",
       "    </tr>\n",
       "    <tr>\n",
       "      <th>1</th>\n",
       "      <td>9.2</td>\n",
       "      <td>The Godfather</td>\n",
       "      <td>1972</td>\n",
       "      <td>A</td>\n",
       "      <td>175 min</td>\n",
       "      <td>An organized crime dynasty's aging patriarch t...</td>\n",
       "      <td>100.0</td>\n",
       "      <td>Francis Ford Coppola</td>\n",
       "      <td>Marlon Brando</td>\n",
       "      <td>Al Pacino</td>\n",
       "      <td>1620367</td>\n",
       "      <td>134,966,411</td>\n",
       "      <td>Crime</td>\n",
       "      <td>Drama</td>\n",
       "      <td>NaN</td>\n",
       "    </tr>\n",
       "    <tr>\n",
       "      <th>2</th>\n",
       "      <td>9.0</td>\n",
       "      <td>The Dark Knight</td>\n",
       "      <td>2008</td>\n",
       "      <td>UA</td>\n",
       "      <td>152 min</td>\n",
       "      <td>When the menace known as the Joker wreaks havo...</td>\n",
       "      <td>84.0</td>\n",
       "      <td>Christopher Nolan</td>\n",
       "      <td>Christian Bale</td>\n",
       "      <td>Heath Ledger</td>\n",
       "      <td>2303232</td>\n",
       "      <td>534,858,444</td>\n",
       "      <td>Action</td>\n",
       "      <td>Crime</td>\n",
       "      <td>Drama</td>\n",
       "    </tr>\n",
       "    <tr>\n",
       "      <th>3</th>\n",
       "      <td>9.0</td>\n",
       "      <td>The Godfather: Part II</td>\n",
       "      <td>1974</td>\n",
       "      <td>A</td>\n",
       "      <td>202 min</td>\n",
       "      <td>The early life and career of Vito Corleone in ...</td>\n",
       "      <td>90.0</td>\n",
       "      <td>Francis Ford Coppola</td>\n",
       "      <td>Al Pacino</td>\n",
       "      <td>Robert De Niro</td>\n",
       "      <td>1129952</td>\n",
       "      <td>57,300,000</td>\n",
       "      <td>Crime</td>\n",
       "      <td>Drama</td>\n",
       "      <td>NaN</td>\n",
       "    </tr>\n",
       "    <tr>\n",
       "      <th>4</th>\n",
       "      <td>9.0</td>\n",
       "      <td>12 Angry Men</td>\n",
       "      <td>1957</td>\n",
       "      <td>U</td>\n",
       "      <td>96 min</td>\n",
       "      <td>A jury holdout attempts to prevent a miscarria...</td>\n",
       "      <td>96.0</td>\n",
       "      <td>Sidney Lumet</td>\n",
       "      <td>Henry Fonda</td>\n",
       "      <td>Lee J. Cobb</td>\n",
       "      <td>689845</td>\n",
       "      <td>4,360,000</td>\n",
       "      <td>Crime</td>\n",
       "      <td>Drama</td>\n",
       "      <td>NaN</td>\n",
       "    </tr>\n",
       "    <tr>\n",
       "      <th>...</th>\n",
       "      <td>...</td>\n",
       "      <td>...</td>\n",
       "      <td>...</td>\n",
       "      <td>...</td>\n",
       "      <td>...</td>\n",
       "      <td>...</td>\n",
       "      <td>...</td>\n",
       "      <td>...</td>\n",
       "      <td>...</td>\n",
       "      <td>...</td>\n",
       "      <td>...</td>\n",
       "      <td>...</td>\n",
       "      <td>...</td>\n",
       "      <td>...</td>\n",
       "      <td>...</td>\n",
       "    </tr>\n",
       "    <tr>\n",
       "      <th>995</th>\n",
       "      <td>7.6</td>\n",
       "      <td>Breakfast at Tiffany's</td>\n",
       "      <td>1961</td>\n",
       "      <td>A</td>\n",
       "      <td>115 min</td>\n",
       "      <td>A young New York socialite becomes interested ...</td>\n",
       "      <td>76.0</td>\n",
       "      <td>Blake Edwards</td>\n",
       "      <td>Audrey Hepburn</td>\n",
       "      <td>George Peppard</td>\n",
       "      <td>166544</td>\n",
       "      <td>NaN</td>\n",
       "      <td>Comedy</td>\n",
       "      <td>Drama</td>\n",
       "      <td>Romance</td>\n",
       "    </tr>\n",
       "    <tr>\n",
       "      <th>996</th>\n",
       "      <td>7.6</td>\n",
       "      <td>Giant</td>\n",
       "      <td>1956</td>\n",
       "      <td>G</td>\n",
       "      <td>201 min</td>\n",
       "      <td>Sprawling epic covering the life of a Texas ca...</td>\n",
       "      <td>84.0</td>\n",
       "      <td>George Stevens</td>\n",
       "      <td>Elizabeth Taylor</td>\n",
       "      <td>Rock Hudson</td>\n",
       "      <td>34075</td>\n",
       "      <td>NaN</td>\n",
       "      <td>Drama</td>\n",
       "      <td>Western</td>\n",
       "      <td>NaN</td>\n",
       "    </tr>\n",
       "    <tr>\n",
       "      <th>997</th>\n",
       "      <td>7.6</td>\n",
       "      <td>From Here to Eternity</td>\n",
       "      <td>1953</td>\n",
       "      <td>Passed</td>\n",
       "      <td>118 min</td>\n",
       "      <td>In Hawaii in 1941, a private is cruelly punish...</td>\n",
       "      <td>85.0</td>\n",
       "      <td>Fred Zinnemann</td>\n",
       "      <td>Burt Lancaster</td>\n",
       "      <td>Montgomery Clift</td>\n",
       "      <td>43374</td>\n",
       "      <td>30,500,000</td>\n",
       "      <td>Drama</td>\n",
       "      <td>Romance</td>\n",
       "      <td>War</td>\n",
       "    </tr>\n",
       "    <tr>\n",
       "      <th>998</th>\n",
       "      <td>7.6</td>\n",
       "      <td>Lifeboat</td>\n",
       "      <td>1944</td>\n",
       "      <td>NaN</td>\n",
       "      <td>97 min</td>\n",
       "      <td>Several survivors of a torpedoed merchant ship...</td>\n",
       "      <td>78.0</td>\n",
       "      <td>Alfred Hitchcock</td>\n",
       "      <td>Tallulah Bankhead</td>\n",
       "      <td>John Hodiak</td>\n",
       "      <td>26471</td>\n",
       "      <td>NaN</td>\n",
       "      <td>Drama</td>\n",
       "      <td>War</td>\n",
       "      <td>NaN</td>\n",
       "    </tr>\n",
       "    <tr>\n",
       "      <th>999</th>\n",
       "      <td>7.6</td>\n",
       "      <td>The 39 Steps</td>\n",
       "      <td>1935</td>\n",
       "      <td>NaN</td>\n",
       "      <td>86 min</td>\n",
       "      <td>A man in London tries to help a counter-espion...</td>\n",
       "      <td>93.0</td>\n",
       "      <td>Alfred Hitchcock</td>\n",
       "      <td>Robert Donat</td>\n",
       "      <td>Madeleine Carroll</td>\n",
       "      <td>51853</td>\n",
       "      <td>NaN</td>\n",
       "      <td>Crime</td>\n",
       "      <td>Mystery</td>\n",
       "      <td>Thriller</td>\n",
       "    </tr>\n",
       "  </tbody>\n",
       "</table>\n",
       "<p>1000 rows × 15 columns</p>\n",
       "</div>"
      ],
      "text/plain": [
       "     IMDB_Rating              Series_Title Released_Year Certificate  Runtime  \\\n",
       "0            9.3  The Shawshank Redemption          1994           A  142 min   \n",
       "1            9.2             The Godfather          1972           A  175 min   \n",
       "2            9.0           The Dark Knight          2008          UA  152 min   \n",
       "3            9.0    The Godfather: Part II          1974           A  202 min   \n",
       "4            9.0              12 Angry Men          1957           U   96 min   \n",
       "..           ...                       ...           ...         ...      ...   \n",
       "995          7.6    Breakfast at Tiffany's          1961           A  115 min   \n",
       "996          7.6                     Giant          1956           G  201 min   \n",
       "997          7.6     From Here to Eternity          1953      Passed  118 min   \n",
       "998          7.6                  Lifeboat          1944         NaN   97 min   \n",
       "999          7.6              The 39 Steps          1935         NaN   86 min   \n",
       "\n",
       "                                              Overview  Meta_score  \\\n",
       "0    Two imprisoned men bond over a number of years...        80.0   \n",
       "1    An organized crime dynasty's aging patriarch t...       100.0   \n",
       "2    When the menace known as the Joker wreaks havo...        84.0   \n",
       "3    The early life and career of Vito Corleone in ...        90.0   \n",
       "4    A jury holdout attempts to prevent a miscarria...        96.0   \n",
       "..                                                 ...         ...   \n",
       "995  A young New York socialite becomes interested ...        76.0   \n",
       "996  Sprawling epic covering the life of a Texas ca...        84.0   \n",
       "997  In Hawaii in 1941, a private is cruelly punish...        85.0   \n",
       "998  Several survivors of a torpedoed merchant ship...        78.0   \n",
       "999  A man in London tries to help a counter-espion...        93.0   \n",
       "\n",
       "                 Director              Star1              Star2  No_of_Votes  \\\n",
       "0          Frank Darabont        Tim Robbins     Morgan Freeman      2343110   \n",
       "1    Francis Ford Coppola      Marlon Brando          Al Pacino      1620367   \n",
       "2       Christopher Nolan     Christian Bale       Heath Ledger      2303232   \n",
       "3    Francis Ford Coppola          Al Pacino     Robert De Niro      1129952   \n",
       "4            Sidney Lumet        Henry Fonda        Lee J. Cobb       689845   \n",
       "..                    ...                ...                ...          ...   \n",
       "995         Blake Edwards     Audrey Hepburn     George Peppard       166544   \n",
       "996        George Stevens   Elizabeth Taylor        Rock Hudson        34075   \n",
       "997        Fred Zinnemann     Burt Lancaster   Montgomery Clift        43374   \n",
       "998      Alfred Hitchcock  Tallulah Bankhead        John Hodiak        26471   \n",
       "999      Alfred Hitchcock       Robert Donat  Madeleine Carroll        51853   \n",
       "\n",
       "           Gross Genre_0   Genre_1    Genre_2  \n",
       "0     28,341,469   Drama       NaN        NaN  \n",
       "1    134,966,411   Crime     Drama        NaN  \n",
       "2    534,858,444  Action     Crime      Drama  \n",
       "3     57,300,000   Crime     Drama        NaN  \n",
       "4      4,360,000   Crime     Drama        NaN  \n",
       "..           ...     ...       ...        ...  \n",
       "995          NaN  Comedy     Drama    Romance  \n",
       "996          NaN   Drama   Western        NaN  \n",
       "997   30,500,000   Drama   Romance        War  \n",
       "998          NaN   Drama       War        NaN  \n",
       "999          NaN   Crime   Mystery   Thriller  \n",
       "\n",
       "[1000 rows x 15 columns]"
      ]
     },
     "execution_count": 1253,
     "metadata": {},
     "output_type": "execute_result"
    }
   ],
   "source": [
    "data\n"
   ]
  },
  {
   "cell_type": "code",
   "execution_count": 1254,
   "id": "b3901b3e-d16e-4540-a424-255fb269badb",
   "metadata": {},
   "outputs": [
    {
     "data": {
      "text/plain": [
       "IMDB_Rating        0\n",
       "Series_Title       0\n",
       "Released_Year      0\n",
       "Certificate      101\n",
       "Runtime            0\n",
       "Overview           0\n",
       "Meta_score       157\n",
       "Director           0\n",
       "Star1              0\n",
       "Star2              0\n",
       "No_of_Votes        0\n",
       "Gross            169\n",
       "Genre_0            0\n",
       "Genre_1          105\n",
       "Genre_2          354\n",
       "dtype: int64"
      ]
     },
     "execution_count": 1254,
     "metadata": {},
     "output_type": "execute_result"
    }
   ],
   "source": [
    "# Conteo de valores perdidos/faltantes  \n",
    "data.isna().sum()"
   ]
  },
  {
   "cell_type": "code",
   "execution_count": 1255,
   "id": "2acbfb58-fef1-4ed5-99ce-6f813471a775",
   "metadata": {},
   "outputs": [
    {
     "name": "stdout",
     "output_type": "stream",
     "text": [
      "<class 'pandas.core.frame.DataFrame'>\n",
      "RangeIndex: 1000 entries, 0 to 999\n",
      "Data columns (total 15 columns):\n",
      " #   Column         Non-Null Count  Dtype  \n",
      "---  ------         --------------  -----  \n",
      " 0   IMDB_Rating    1000 non-null   float64\n",
      " 1   Series_Title   1000 non-null   object \n",
      " 2   Released_Year  1000 non-null   object \n",
      " 3   Certificate    899 non-null    object \n",
      " 4   Runtime        1000 non-null   object \n",
      " 5   Overview       1000 non-null   object \n",
      " 6   Meta_score     843 non-null    float64\n",
      " 7   Director       1000 non-null   object \n",
      " 8   Star1          1000 non-null   object \n",
      " 9   Star2          1000 non-null   object \n",
      " 10  No_of_Votes    1000 non-null   int64  \n",
      " 11  Gross          831 non-null    object \n",
      " 12  Genre_0        1000 non-null   object \n",
      " 13  Genre_1        895 non-null    object \n",
      " 14  Genre_2        646 non-null    object \n",
      "dtypes: float64(2), int64(1), object(12)\n",
      "memory usage: 117.3+ KB\n"
     ]
    }
   ],
   "source": [
    "data.info()"
   ]
  },
  {
   "cell_type": "code",
   "execution_count": 1256,
   "id": "ad8f8ba9-5409-4c8d-a18e-fa5fbc9350ce",
   "metadata": {},
   "outputs": [
    {
     "data": {
      "text/plain": [
       "0      False\n",
       "1      False\n",
       "2      False\n",
       "3      False\n",
       "4      False\n",
       "       ...  \n",
       "995    False\n",
       "996    False\n",
       "997    False\n",
       "998     True\n",
       "999     True\n",
       "Name: Certificate, Length: 1000, dtype: bool"
      ]
     },
     "execution_count": 1256,
     "metadata": {},
     "output_type": "execute_result"
    }
   ],
   "source": [
    "data['Certificate'].isna()"
   ]
  },
  {
   "cell_type": "code",
   "execution_count": 1259,
   "id": "2b122c47-e7af-4520-b145-3f328179ab4e",
   "metadata": {},
   "outputs": [],
   "source": [
    "data['Certificate'].isna().sum()"
   ]
  },
  {
   "cell_type": "code",
   "execution_count": 1260,
   "id": "7299478b-1152-41e3-b38b-62a1f03488a9",
   "metadata": {},
   "outputs": [
    {
     "data": {
      "text/plain": [
       "IMDB_Rating        0\n",
       "Series_Title       0\n",
       "Released_Year      0\n",
       "Certificate      101\n",
       "Runtime            0\n",
       "Overview           0\n",
       "Meta_score       157\n",
       "Director           0\n",
       "Star1              0\n",
       "Star2              0\n",
       "No_of_Votes        0\n",
       "Gross            169\n",
       "Genre_0            0\n",
       "Genre_1          105\n",
       "Genre_2          354\n",
       "dtype: int64"
      ]
     },
     "execution_count": 1260,
     "metadata": {},
     "output_type": "execute_result"
    }
   ],
   "source": [
    "data_filt.isna().sum()\n",
    "#aqui comprobamos que el nuevo dataset no tiene ningun valor nulo!!"
   ]
  },
  {
   "cell_type": "code",
   "execution_count": 1261,
   "id": "96578014-41b5-49c8-989c-7134a1ebac6d",
   "metadata": {},
   "outputs": [
    {
     "data": {
      "text/html": [
       "<div>\n",
       "<style scoped>\n",
       "    .dataframe tbody tr th:only-of-type {\n",
       "        vertical-align: middle;\n",
       "    }\n",
       "\n",
       "    .dataframe tbody tr th {\n",
       "        vertical-align: top;\n",
       "    }\n",
       "\n",
       "    .dataframe thead th {\n",
       "        text-align: right;\n",
       "    }\n",
       "</style>\n",
       "<table border=\"1\" class=\"dataframe\">\n",
       "  <thead>\n",
       "    <tr style=\"text-align: right;\">\n",
       "      <th></th>\n",
       "      <th>IMDB_Rating</th>\n",
       "      <th>Meta_score</th>\n",
       "      <th>No_of_Votes</th>\n",
       "    </tr>\n",
       "  </thead>\n",
       "  <tbody>\n",
       "    <tr>\n",
       "      <th>count</th>\n",
       "      <td>1000.000000</td>\n",
       "      <td>843.000000</td>\n",
       "      <td>1.000000e+03</td>\n",
       "    </tr>\n",
       "    <tr>\n",
       "      <th>mean</th>\n",
       "      <td>7.949300</td>\n",
       "      <td>77.971530</td>\n",
       "      <td>2.736929e+05</td>\n",
       "    </tr>\n",
       "    <tr>\n",
       "      <th>std</th>\n",
       "      <td>0.275491</td>\n",
       "      <td>12.376099</td>\n",
       "      <td>3.273727e+05</td>\n",
       "    </tr>\n",
       "    <tr>\n",
       "      <th>min</th>\n",
       "      <td>7.600000</td>\n",
       "      <td>28.000000</td>\n",
       "      <td>2.508800e+04</td>\n",
       "    </tr>\n",
       "    <tr>\n",
       "      <th>25%</th>\n",
       "      <td>7.700000</td>\n",
       "      <td>70.000000</td>\n",
       "      <td>5.552625e+04</td>\n",
       "    </tr>\n",
       "    <tr>\n",
       "      <th>50%</th>\n",
       "      <td>7.900000</td>\n",
       "      <td>79.000000</td>\n",
       "      <td>1.385485e+05</td>\n",
       "    </tr>\n",
       "    <tr>\n",
       "      <th>75%</th>\n",
       "      <td>8.100000</td>\n",
       "      <td>87.000000</td>\n",
       "      <td>3.741612e+05</td>\n",
       "    </tr>\n",
       "    <tr>\n",
       "      <th>max</th>\n",
       "      <td>9.300000</td>\n",
       "      <td>100.000000</td>\n",
       "      <td>2.343110e+06</td>\n",
       "    </tr>\n",
       "  </tbody>\n",
       "</table>\n",
       "</div>"
      ],
      "text/plain": [
       "       IMDB_Rating  Meta_score   No_of_Votes\n",
       "count  1000.000000  843.000000  1.000000e+03\n",
       "mean      7.949300   77.971530  2.736929e+05\n",
       "std       0.275491   12.376099  3.273727e+05\n",
       "min       7.600000   28.000000  2.508800e+04\n",
       "25%       7.700000   70.000000  5.552625e+04\n",
       "50%       7.900000   79.000000  1.385485e+05\n",
       "75%       8.100000   87.000000  3.741612e+05\n",
       "max       9.300000  100.000000  2.343110e+06"
      ]
     },
     "execution_count": 1261,
     "metadata": {},
     "output_type": "execute_result"
    }
   ],
   "source": [
    "data.describe()"
   ]
  },
  {
   "cell_type": "code",
   "execution_count": 1262,
   "id": "2fa51415-2769-4275-a7bc-f35f174908a3",
   "metadata": {},
   "outputs": [
    {
     "data": {
      "text/plain": [
       "IMDB_Rating      float64\n",
       "Series_Title      object\n",
       "Released_Year     object\n",
       "Certificate       object\n",
       "Runtime           object\n",
       "Overview          object\n",
       "Meta_score       float64\n",
       "Director          object\n",
       "Star1             object\n",
       "Star2             object\n",
       "No_of_Votes        int64\n",
       "Gross             object\n",
       "Genre_0           object\n",
       "Genre_1           object\n",
       "Genre_2           object\n",
       "dtype: object"
      ]
     },
     "execution_count": 1262,
     "metadata": {},
     "output_type": "execute_result"
    }
   ],
   "source": [
    "#consultamos el tipo de datos\n",
    "data.dtypes\n"
   ]
  },
  {
   "cell_type": "code",
   "execution_count": null,
   "id": "840e0dfd-5a2f-433c-ad22-4e0a87b675aa",
   "metadata": {},
   "outputs": [],
   "source": []
  },
  {
   "cell_type": "code",
   "execution_count": 1239,
   "id": "00d89417-deea-4284-bcdf-cc1f8fb57c94",
   "metadata": {},
   "outputs": [],
   "source": [
    "#eliminamos la columna de imagen ya que no nos va a resultar util\n",
    "columnas_drop=[\"Gross\",\"Overview\",\"Certificate\",\"Star2\",\"Meta_score\"]\n",
    "\n"
   ]
  },
  {
   "cell_type": "code",
   "execution_count": 1263,
   "id": "8ce741f0-f4c2-495b-9ab4-9ecb98c6babc",
   "metadata": {},
   "outputs": [
    {
     "data": {
      "text/html": [
       "<div>\n",
       "<style scoped>\n",
       "    .dataframe tbody tr th:only-of-type {\n",
       "        vertical-align: middle;\n",
       "    }\n",
       "\n",
       "    .dataframe tbody tr th {\n",
       "        vertical-align: top;\n",
       "    }\n",
       "\n",
       "    .dataframe thead th {\n",
       "        text-align: right;\n",
       "    }\n",
       "</style>\n",
       "<table border=\"1\" class=\"dataframe\">\n",
       "  <thead>\n",
       "    <tr style=\"text-align: right;\">\n",
       "      <th></th>\n",
       "      <th>IMDB_Rating</th>\n",
       "      <th>Series_Title</th>\n",
       "      <th>Released_Year</th>\n",
       "      <th>Runtime</th>\n",
       "      <th>Director</th>\n",
       "      <th>Star1</th>\n",
       "      <th>No_of_Votes</th>\n",
       "      <th>Genre_0</th>\n",
       "      <th>Genre_1</th>\n",
       "      <th>Genre_2</th>\n",
       "    </tr>\n",
       "  </thead>\n",
       "  <tbody>\n",
       "    <tr>\n",
       "      <th>0</th>\n",
       "      <td>9.3</td>\n",
       "      <td>The Shawshank Redemption</td>\n",
       "      <td>1994</td>\n",
       "      <td>142 min</td>\n",
       "      <td>Frank Darabont</td>\n",
       "      <td>Tim Robbins</td>\n",
       "      <td>2343110</td>\n",
       "      <td>Drama</td>\n",
       "      <td>NaN</td>\n",
       "      <td>NaN</td>\n",
       "    </tr>\n",
       "    <tr>\n",
       "      <th>1</th>\n",
       "      <td>9.2</td>\n",
       "      <td>The Godfather</td>\n",
       "      <td>1972</td>\n",
       "      <td>175 min</td>\n",
       "      <td>Francis Ford Coppola</td>\n",
       "      <td>Marlon Brando</td>\n",
       "      <td>1620367</td>\n",
       "      <td>Crime</td>\n",
       "      <td>Drama</td>\n",
       "      <td>NaN</td>\n",
       "    </tr>\n",
       "    <tr>\n",
       "      <th>2</th>\n",
       "      <td>9.0</td>\n",
       "      <td>The Dark Knight</td>\n",
       "      <td>2008</td>\n",
       "      <td>152 min</td>\n",
       "      <td>Christopher Nolan</td>\n",
       "      <td>Christian Bale</td>\n",
       "      <td>2303232</td>\n",
       "      <td>Action</td>\n",
       "      <td>Crime</td>\n",
       "      <td>Drama</td>\n",
       "    </tr>\n",
       "    <tr>\n",
       "      <th>3</th>\n",
       "      <td>9.0</td>\n",
       "      <td>The Godfather: Part II</td>\n",
       "      <td>1974</td>\n",
       "      <td>202 min</td>\n",
       "      <td>Francis Ford Coppola</td>\n",
       "      <td>Al Pacino</td>\n",
       "      <td>1129952</td>\n",
       "      <td>Crime</td>\n",
       "      <td>Drama</td>\n",
       "      <td>NaN</td>\n",
       "    </tr>\n",
       "    <tr>\n",
       "      <th>4</th>\n",
       "      <td>9.0</td>\n",
       "      <td>12 Angry Men</td>\n",
       "      <td>1957</td>\n",
       "      <td>96 min</td>\n",
       "      <td>Sidney Lumet</td>\n",
       "      <td>Henry Fonda</td>\n",
       "      <td>689845</td>\n",
       "      <td>Crime</td>\n",
       "      <td>Drama</td>\n",
       "      <td>NaN</td>\n",
       "    </tr>\n",
       "    <tr>\n",
       "      <th>...</th>\n",
       "      <td>...</td>\n",
       "      <td>...</td>\n",
       "      <td>...</td>\n",
       "      <td>...</td>\n",
       "      <td>...</td>\n",
       "      <td>...</td>\n",
       "      <td>...</td>\n",
       "      <td>...</td>\n",
       "      <td>...</td>\n",
       "      <td>...</td>\n",
       "    </tr>\n",
       "    <tr>\n",
       "      <th>995</th>\n",
       "      <td>7.6</td>\n",
       "      <td>Breakfast at Tiffany's</td>\n",
       "      <td>1961</td>\n",
       "      <td>115 min</td>\n",
       "      <td>Blake Edwards</td>\n",
       "      <td>Audrey Hepburn</td>\n",
       "      <td>166544</td>\n",
       "      <td>Comedy</td>\n",
       "      <td>Drama</td>\n",
       "      <td>Romance</td>\n",
       "    </tr>\n",
       "    <tr>\n",
       "      <th>996</th>\n",
       "      <td>7.6</td>\n",
       "      <td>Giant</td>\n",
       "      <td>1956</td>\n",
       "      <td>201 min</td>\n",
       "      <td>George Stevens</td>\n",
       "      <td>Elizabeth Taylor</td>\n",
       "      <td>34075</td>\n",
       "      <td>Drama</td>\n",
       "      <td>Western</td>\n",
       "      <td>NaN</td>\n",
       "    </tr>\n",
       "    <tr>\n",
       "      <th>997</th>\n",
       "      <td>7.6</td>\n",
       "      <td>From Here to Eternity</td>\n",
       "      <td>1953</td>\n",
       "      <td>118 min</td>\n",
       "      <td>Fred Zinnemann</td>\n",
       "      <td>Burt Lancaster</td>\n",
       "      <td>43374</td>\n",
       "      <td>Drama</td>\n",
       "      <td>Romance</td>\n",
       "      <td>War</td>\n",
       "    </tr>\n",
       "    <tr>\n",
       "      <th>998</th>\n",
       "      <td>7.6</td>\n",
       "      <td>Lifeboat</td>\n",
       "      <td>1944</td>\n",
       "      <td>97 min</td>\n",
       "      <td>Alfred Hitchcock</td>\n",
       "      <td>Tallulah Bankhead</td>\n",
       "      <td>26471</td>\n",
       "      <td>Drama</td>\n",
       "      <td>War</td>\n",
       "      <td>NaN</td>\n",
       "    </tr>\n",
       "    <tr>\n",
       "      <th>999</th>\n",
       "      <td>7.6</td>\n",
       "      <td>The 39 Steps</td>\n",
       "      <td>1935</td>\n",
       "      <td>86 min</td>\n",
       "      <td>Alfred Hitchcock</td>\n",
       "      <td>Robert Donat</td>\n",
       "      <td>51853</td>\n",
       "      <td>Crime</td>\n",
       "      <td>Mystery</td>\n",
       "      <td>Thriller</td>\n",
       "    </tr>\n",
       "  </tbody>\n",
       "</table>\n",
       "<p>1000 rows × 10 columns</p>\n",
       "</div>"
      ],
      "text/plain": [
       "     IMDB_Rating              Series_Title Released_Year  Runtime  \\\n",
       "0            9.3  The Shawshank Redemption          1994  142 min   \n",
       "1            9.2             The Godfather          1972  175 min   \n",
       "2            9.0           The Dark Knight          2008  152 min   \n",
       "3            9.0    The Godfather: Part II          1974  202 min   \n",
       "4            9.0              12 Angry Men          1957   96 min   \n",
       "..           ...                       ...           ...      ...   \n",
       "995          7.6    Breakfast at Tiffany's          1961  115 min   \n",
       "996          7.6                     Giant          1956  201 min   \n",
       "997          7.6     From Here to Eternity          1953  118 min   \n",
       "998          7.6                  Lifeboat          1944   97 min   \n",
       "999          7.6              The 39 Steps          1935   86 min   \n",
       "\n",
       "                 Director              Star1  No_of_Votes Genre_0   Genre_1  \\\n",
       "0          Frank Darabont        Tim Robbins      2343110   Drama       NaN   \n",
       "1    Francis Ford Coppola      Marlon Brando      1620367   Crime     Drama   \n",
       "2       Christopher Nolan     Christian Bale      2303232  Action     Crime   \n",
       "3    Francis Ford Coppola          Al Pacino      1129952   Crime     Drama   \n",
       "4            Sidney Lumet        Henry Fonda       689845   Crime     Drama   \n",
       "..                    ...                ...          ...     ...       ...   \n",
       "995         Blake Edwards     Audrey Hepburn       166544  Comedy     Drama   \n",
       "996        George Stevens   Elizabeth Taylor        34075   Drama   Western   \n",
       "997        Fred Zinnemann     Burt Lancaster        43374   Drama   Romance   \n",
       "998      Alfred Hitchcock  Tallulah Bankhead        26471   Drama       War   \n",
       "999      Alfred Hitchcock       Robert Donat        51853   Crime   Mystery   \n",
       "\n",
       "       Genre_2  \n",
       "0          NaN  \n",
       "1          NaN  \n",
       "2        Drama  \n",
       "3          NaN  \n",
       "4          NaN  \n",
       "..         ...  \n",
       "995    Romance  \n",
       "996        NaN  \n",
       "997        War  \n",
       "998        NaN  \n",
       "999   Thriller  \n",
       "\n",
       "[1000 rows x 10 columns]"
      ]
     },
     "execution_count": 1263,
     "metadata": {},
     "output_type": "execute_result"
    }
   ],
   "source": [
    "data_filt= data.drop(columns=columnas_drop)\n",
    "data_filt\n",
    "\n"
   ]
  },
  {
   "cell_type": "code",
   "execution_count": 1264,
   "id": "e99a9169-7aa8-400d-866f-f0efcf7df36e",
   "metadata": {},
   "outputs": [
    {
     "data": {
      "text/plain": [
       "object     8\n",
       "float64    1\n",
       "int64      1\n",
       "dtype: int64"
      ]
     },
     "execution_count": 1264,
     "metadata": {},
     "output_type": "execute_result"
    }
   ],
   "source": [
    "data_filt.dtypes.value_counts()\n"
   ]
  },
  {
   "cell_type": "code",
   "execution_count": 1265,
   "id": "0522d23a-723e-4c73-a99e-7451eaea858a",
   "metadata": {},
   "outputs": [
    {
     "name": "stdout",
     "output_type": "stream",
     "text": [
      "<class 'pandas.core.frame.DataFrame'>\n",
      "RangeIndex: 1000 entries, 0 to 999\n",
      "Data columns (total 10 columns):\n",
      " #   Column         Non-Null Count  Dtype  \n",
      "---  ------         --------------  -----  \n",
      " 0   IMDB_Rating    1000 non-null   float64\n",
      " 1   Series_Title   1000 non-null   object \n",
      " 2   Released_Year  1000 non-null   object \n",
      " 3   Runtime        1000 non-null   object \n",
      " 4   Director       1000 non-null   object \n",
      " 5   Star1          1000 non-null   object \n",
      " 6   No_of_Votes    1000 non-null   int64  \n",
      " 7   Genre_0        1000 non-null   object \n",
      " 8   Genre_1        895 non-null    object \n",
      " 9   Genre_2        646 non-null    object \n",
      "dtypes: float64(1), int64(1), object(8)\n",
      "memory usage: 78.2+ KB\n"
     ]
    }
   ],
   "source": [
    "data_filt.info()"
   ]
  },
  {
   "cell_type": "code",
   "execution_count": 1268,
   "id": "e60ebd91-226e-4e8d-9eab-3f0a874ce4fc",
   "metadata": {},
   "outputs": [],
   "source": [
    "data_filt['Released_Year'] = pd.to_numeric(data_filt['Released_Year'], errors='coerce')\n",
    "data_filt['No_of_Votes'] = pd.to_numeric(data_filt['No_of_Votes'], errors='coerce')"
   ]
  },
  {
   "cell_type": "code",
   "execution_count": 1269,
   "id": "87b09de8-d86e-482d-8bd1-da93bb22368f",
   "metadata": {},
   "outputs": [
    {
     "name": "stdout",
     "output_type": "stream",
     "text": [
      "<class 'pandas.core.frame.DataFrame'>\n",
      "RangeIndex: 1000 entries, 0 to 999\n",
      "Data columns (total 10 columns):\n",
      " #   Column         Non-Null Count  Dtype  \n",
      "---  ------         --------------  -----  \n",
      " 0   IMDB_Rating    1000 non-null   float64\n",
      " 1   Series_Title   1000 non-null   object \n",
      " 2   Released_Year  999 non-null    float64\n",
      " 3   Runtime        1000 non-null   object \n",
      " 4   Director       1000 non-null   object \n",
      " 5   Star1          1000 non-null   object \n",
      " 6   No_of_Votes    1000 non-null   int64  \n",
      " 7   Genre_0        1000 non-null   object \n",
      " 8   Genre_1        895 non-null    object \n",
      " 9   Genre_2        646 non-null    object \n",
      "dtypes: float64(2), int64(1), object(7)\n",
      "memory usage: 78.2+ KB\n"
     ]
    }
   ],
   "source": [
    "data_filt.info()"
   ]
  },
  {
   "cell_type": "code",
   "execution_count": 1270,
   "id": "3daa33fa-9757-4453-b202-968957a7debe",
   "metadata": {},
   "outputs": [],
   "source": [
    "data_filt['Runtime'] = data_filt['Runtime'].str.replace(' min', '')\n",
    "data_filt['Runtime'] = pd.to_numeric(data_filt['Runtime'], errors='coerce')"
   ]
  },
  {
   "cell_type": "code",
   "execution_count": 1271,
   "id": "b2bc0beb-738c-4ea1-a124-857e7256b08d",
   "metadata": {},
   "outputs": [
    {
     "name": "stdout",
     "output_type": "stream",
     "text": [
      "<class 'pandas.core.frame.DataFrame'>\n",
      "RangeIndex: 1000 entries, 0 to 999\n",
      "Data columns (total 10 columns):\n",
      " #   Column         Non-Null Count  Dtype  \n",
      "---  ------         --------------  -----  \n",
      " 0   IMDB_Rating    1000 non-null   float64\n",
      " 1   Series_Title   1000 non-null   object \n",
      " 2   Released_Year  999 non-null    float64\n",
      " 3   Runtime        1000 non-null   int64  \n",
      " 4   Director       1000 non-null   object \n",
      " 5   Star1          1000 non-null   object \n",
      " 6   No_of_Votes    1000 non-null   int64  \n",
      " 7   Genre_0        1000 non-null   object \n",
      " 8   Genre_1        895 non-null    object \n",
      " 9   Genre_2        646 non-null    object \n",
      "dtypes: float64(2), int64(2), object(6)\n",
      "memory usage: 78.2+ KB\n"
     ]
    }
   ],
   "source": [
    "data_filt.info()\n"
   ]
  },
  {
   "cell_type": "code",
   "execution_count": 1272,
   "id": "3a5ba929-e57f-4ecd-be51-10aa6a93ad76",
   "metadata": {},
   "outputs": [
    {
     "name": "stdout",
     "output_type": "stream",
     "text": [
      "<class 'pandas.core.frame.DataFrame'>\n",
      "RangeIndex: 1000 entries, 0 to 999\n",
      "Data columns (total 10 columns):\n",
      " #   Column         Non-Null Count  Dtype  \n",
      "---  ------         --------------  -----  \n",
      " 0   IMDB_Rating    1000 non-null   float64\n",
      " 1   Series_Title   1000 non-null   object \n",
      " 2   Released_Year  999 non-null    float64\n",
      " 3   Runtime        1000 non-null   int64  \n",
      " 4   Director       1000 non-null   object \n",
      " 5   Star1          1000 non-null   object \n",
      " 6   No_of_Votes    1000 non-null   int64  \n",
      " 7   Genre_0        1000 non-null   object \n",
      " 8   Genre_1        895 non-null    object \n",
      " 9   Genre_2        646 non-null    object \n",
      "dtypes: float64(2), int64(2), object(6)\n",
      "memory usage: 78.2+ KB\n"
     ]
    }
   ],
   "source": [
    "data_filt.info()"
   ]
  },
  {
   "cell_type": "code",
   "execution_count": 1273,
   "id": "8158e3b5-a6dd-4d29-ae9e-d6c548ef1e44",
   "metadata": {},
   "outputs": [
    {
     "data": {
      "text/plain": [
       "IMDB_Rating      float64\n",
       "Series_Title      object\n",
       "Released_Year    float64\n",
       "Runtime            int64\n",
       "Director          object\n",
       "Star1             object\n",
       "No_of_Votes        int64\n",
       "Genre_0           object\n",
       "Genre_1           object\n",
       "Genre_2           object\n",
       "dtype: object"
      ]
     },
     "execution_count": 1273,
     "metadata": {},
     "output_type": "execute_result"
    }
   ],
   "source": [
    "data_filt.dtypes"
   ]
  },
  {
   "cell_type": "code",
   "execution_count": 1274,
   "id": "b67ebe80-7b14-40ed-b0e8-f4481bd1fd23",
   "metadata": {},
   "outputs": [],
   "source": [
    "\n",
    "encoder = LabelEncoder()\n",
    "encoded_data = encoder.fit_transform(data_filt['Series_Title'])\n",
    "data_filt['Series_numerico'] = encoder.fit_transform(data_filt['Series_Title'])\n",
    "\n"
   ]
  },
  {
   "cell_type": "code",
   "execution_count": 1275,
   "id": "d8c4a139-a2a5-490c-8273-8422b4e0cac3",
   "metadata": {},
   "outputs": [
    {
     "data": {
      "text/plain": [
       "IMDB_Rating        float64\n",
       "Series_Title        object\n",
       "Released_Year      float64\n",
       "Runtime              int64\n",
       "Director            object\n",
       "Star1               object\n",
       "No_of_Votes          int64\n",
       "Genre_0             object\n",
       "Genre_1             object\n",
       "Genre_2             object\n",
       "Series_numerico      int64\n",
       "dtype: object"
      ]
     },
     "execution_count": 1285,
     "metadata": {},
     "output_type": "execute_result"
    }
   ],
   "source": [
    "data_filt.dtypes"
   ]
  },
  {
   "cell_type": "code",
   "execution_count": 1276,
   "id": "8a67e39b-ca11-40db-baff-1556b7ccecd6",
   "metadata": {},
   "outputs": [
    {
     "name": "stdout",
     "output_type": "stream",
     "text": [
      "0      875\n",
      "1      786\n",
      "2      766\n",
      "3      787\n",
      "4        1\n",
      "      ... \n",
      "995    131\n",
      "996    298\n",
      "997    286\n",
      "998    481\n",
      "999    738\n",
      "Name: Series_numerico, Length: 1000, dtype: int64\n"
     ]
    }
   ],
   "source": [
    "print(data_filt[\"Series_numerico\"])"
   ]
  },
  {
   "cell_type": "code",
   "execution_count": 1279,
   "id": "11cf0e4a-5b05-4ce9-a353-ac0100e587ba",
   "metadata": {},
   "outputs": [
    {
     "name": "stdout",
     "output_type": "stream",
     "text": [
      "14\n",
      "Dark Waters\n"
     ]
    }
   ],
   "source": [
    "# Buscamos el valor numérico correspondiente al título \"Pulp Fiction\"\n",
    "valor_numerico = data_filt.loc[data_filt['Series_Title'] == 'The Dark Knight', 'Series_numerico'].iloc[0]\n",
    "\n",
    "# Mostramos el valor numérico\n",
    "print(valor_numerico)\n",
    "\n",
    "# Buscamos el título correspondiente al valor numérico 446\n",
    "titulo = data_filt.loc[data_filt['Series_numerico'] == 1, 'Series_Title'].iloc[0]\n",
    "\n",
    "# Mostramos el título\n",
    "print(titulo)"
   ]
  },
  {
   "cell_type": "code",
   "execution_count": 1305,
   "id": "199b4921-08a9-456d-a5e0-bf0c1e958598",
   "metadata": {},
   "outputs": [],
   "source": [
    "#asignamos valores numericos a Director\n",
    "encoderD = LabelEncoder()\n",
    "encoded_dataD = encoderD.fit_transform(data_filt['Director'])\n",
    "data_filt['Director_numerico'] = encoderD.fit_transform(data_filt['Director'])"
   ]
  },
  {
   "cell_type": "code",
   "execution_count": 1306,
   "id": "4eabc8ec-1ac4-429b-bb02-e1f5f9f0034e",
   "metadata": {},
   "outputs": [
    {
     "name": "stdout",
     "output_type": "stream",
     "text": [
      "<class 'pandas.core.frame.DataFrame'>\n",
      "RangeIndex: 1000 entries, 0 to 999\n",
      "Data columns (total 12 columns):\n",
      " #   Column             Non-Null Count  Dtype  \n",
      "---  ------             --------------  -----  \n",
      " 0   IMDB_Rating        1000 non-null   float64\n",
      " 1   Series_Title       1000 non-null   object \n",
      " 2   Released_Year      999 non-null    float64\n",
      " 3   Runtime            1000 non-null   int64  \n",
      " 4   Director           1000 non-null   object \n",
      " 5   Star1              1000 non-null   object \n",
      " 6   No_of_Votes        1000 non-null   int64  \n",
      " 7   Genre_0            1000 non-null   object \n",
      " 8   Genre_1            895 non-null    object \n",
      " 9   Genre_2            646 non-null    object \n",
      " 10  Series_numerico    1000 non-null   int64  \n",
      " 11  Director_numerico  1000 non-null   int64  \n",
      "dtypes: float64(2), int64(4), object(6)\n",
      "memory usage: 93.9+ KB\n"
     ]
    }
   ],
   "source": [
    "data_filt.info()"
   ]
  },
  {
   "cell_type": "code",
   "execution_count": 1307,
   "id": "3b5c8e1f-66a0-465e-a1bb-0dae656c7c4e",
   "metadata": {},
   "outputs": [
    {
     "name": "stdout",
     "output_type": "stream",
     "text": [
      "     IMDB_Rating              Series_Title  Released_Year  Runtime  \\\n",
      "414          8.0                Annie Hall         1977.0       93   \n",
      "526          7.9   Crimes and Misdemeanors         1989.0      104   \n",
      "528          7.9    Hannah and Her Sisters         1986.0      107   \n",
      "533          7.9                 Manhattan         1979.0       96   \n",
      "743          7.7         Midnight in Paris         2011.0       96   \n",
      "835          7.7  The Purple Rose of Cairo         1985.0       82   \n",
      "837          7.7                     Zelig         1983.0       79   \n",
      "846          7.7            Love and Death         1975.0       85   \n",
      "929          7.6               Match Point         2005.0      124   \n",
      "\n",
      "        Director               Star1  No_of_Votes Genre_0   Genre_1  \\\n",
      "414  Woody Allen         Woody Allen       251823  Comedy   Romance   \n",
      "526  Woody Allen       Martin Landau        54670  Comedy     Drama   \n",
      "528  Woody Allen          Mia Farrow        67176  Comedy     Drama   \n",
      "533  Woody Allen         Woody Allen       131436  Comedy     Drama   \n",
      "743  Woody Allen         Owen Wilson       388089  Comedy   Fantasy   \n",
      "835  Woody Allen          Mia Farrow        47102  Comedy   Fantasy   \n",
      "837  Woody Allen         Woody Allen        39881  Comedy       NaN   \n",
      "846  Woody Allen         Woody Allen        36037  Comedy       War   \n",
      "929  Woody Allen  Scarlett Johansson       206294   Drama   Romance   \n",
      "\n",
      "       Genre_2  Series_numerico  Director_numerico  \n",
      "414        NaN                4                532  \n",
      "526        NaN                3                532  \n",
      "528        NaN                3                532  \n",
      "533    Romance                3                532  \n",
      "743    Romance                1                532  \n",
      "835    Romance                1                532  \n",
      "837        NaN                1                532  \n",
      "846        NaN                1                532  \n",
      "929   Thriller                0                532  \n"
     ]
    }
   ],
   "source": [
    "# Definimos el nombre del director que queremos buscar\n",
    "nombre_director = \"Woody Allen\"\n",
    "\n",
    "# Obtenemos el valor numérico correspondiente al nombre del director\n",
    "valor_numerico_director = data_filt.loc[data_filt['Director'] == nombre_director, 'Director_numerico'].iloc[0]\n",
    "\n",
    "# Filtramos el DataFrame para obtener las películas dirigidas por el director\n",
    "peliculas_director = data_filt.loc[data_filt['Director_numerico'] == valor_numerico_director]\n",
    "\n",
    "# Mostramos las películas dirigidas por el director\n",
    "print(peliculas_director)\n"
   ]
  },
  {
   "cell_type": "code",
   "execution_count": 1308,
   "id": "103344c6-cec4-449e-89a7-22585407abc4",
   "metadata": {},
   "outputs": [],
   "source": [
    "#hacemos lo mismo con la estrella\n",
    "encoderS= LabelEncoder()\n",
    "encoded_dataS = encoderS.fit_transform(data_filt['Star1'])\n",
    "data_filt['Star1_numerico'] = encoder.fit_transform(data_filt['Star1'])"
   ]
  },
  {
   "cell_type": "code",
   "execution_count": 1310,
   "id": "1a4aa920-2609-4172-9548-49b950a31c6e",
   "metadata": {},
   "outputs": [
    {
     "name": "stdout",
     "output_type": "stream",
     "text": [
      "     IMDB_Rating                         Series_Title  Released_Year  Runtime  \\\n",
      "9            8.8                           Fight Club         1999.0      139   \n",
      "93           8.3                 Inglourious Basterds         2009.0      153   \n",
      "628          7.8  The Curious Case of Benjamin Button         2008.0      166   \n",
      "910          7.6                            Moneyball         2011.0      133   \n",
      "\n",
      "              Director      Star1  No_of_Votes    Genre_0   Genre_1   Genre_2  \\\n",
      "9        David Fincher  Brad Pitt      1854740      Drama       NaN       NaN   \n",
      "93   Quentin Tarantino  Brad Pitt      1267869  Adventure     Drama       War   \n",
      "628      David Fincher  Brad Pitt       589160      Drama   Fantasy   Romance   \n",
      "910     Bennett Miller  Brad Pitt       369529  Biography     Drama     Sport   \n",
      "\n",
      "     Series_numerico  Director_numerico  Star1_numerico  \n",
      "9                 12                100              80  \n",
      "93                 7                391              80  \n",
      "628                2                100              80  \n",
      "910                0                 46              80  \n"
     ]
    }
   ],
   "source": [
    "nombre_star=\"Brad Pitt\"\n",
    "valor_numerico_star = data_filt.loc[data_filt['Star1'] == nombre_star, 'Star1_numerico'].iloc[0]\n",
    "\n",
    "# Filtramos el DataFrame para obtener las películas de brad Pitt\n",
    "peliculas_star = data_filt.loc[data_filt['Star1_numerico'] == valor_numerico_star]\n",
    "\n",
    "# Mostramos las películas protagonizadas por Brad Pitt\n",
    "print(peliculas_star)\n",
    "\n"
   ]
  },
  {
   "cell_type": "code",
   "execution_count": 1311,
   "id": "f43ede7f-0b49-498a-af1d-35c9a7cf7fc2",
   "metadata": {},
   "outputs": [
    {
     "name": "stdout",
     "output_type": "stream",
     "text": [
      "<class 'pandas.core.frame.DataFrame'>\n",
      "RangeIndex: 1000 entries, 0 to 999\n",
      "Data columns (total 13 columns):\n",
      " #   Column             Non-Null Count  Dtype  \n",
      "---  ------             --------------  -----  \n",
      " 0   IMDB_Rating        1000 non-null   float64\n",
      " 1   Series_Title       1000 non-null   object \n",
      " 2   Released_Year      999 non-null    float64\n",
      " 3   Runtime            1000 non-null   int64  \n",
      " 4   Director           1000 non-null   object \n",
      " 5   Star1              1000 non-null   object \n",
      " 6   No_of_Votes        1000 non-null   int64  \n",
      " 7   Genre_0            1000 non-null   object \n",
      " 8   Genre_1            895 non-null    object \n",
      " 9   Genre_2            646 non-null    object \n",
      " 10  Series_numerico    1000 non-null   int64  \n",
      " 11  Director_numerico  1000 non-null   int64  \n",
      " 12  Star1_numerico     1000 non-null   int64  \n",
      "dtypes: float64(2), int64(5), object(6)\n",
      "memory usage: 101.7+ KB\n"
     ]
    }
   ],
   "source": [
    "data_filt.info()\n"
   ]
  },
  {
   "cell_type": "code",
   "execution_count": 1312,
   "id": "118eff90-4a1d-4a1f-bfe1-6b1c3ab0a8d4",
   "metadata": {},
   "outputs": [
    {
     "name": "stdout",
     "output_type": "stream",
     "text": [
      "0      7\n",
      "1      6\n",
      "2      1\n",
      "3      6\n",
      "4      6\n",
      "      ..\n",
      "995    5\n",
      "996    7\n",
      "997    7\n",
      "998    7\n",
      "999    6\n",
      "Name: Genre_0_Numerico, Length: 1000, dtype: int64\n"
     ]
    }
   ],
   "source": [
    "encoderS = LabelEncoder()\n",
    "encoded_dataS = encoderS.fit_transform(data_filt['Genre_0'])\n",
    "data_filt['Genre_0_Numerico'] = encoder.fit_transform(data_filt['Genre_0']) + 1\n",
    "print(data_filt['Genre_0_Numerico'])\n"
   ]
  },
  {
   "cell_type": "code",
   "execution_count": 1317,
   "id": "54eb6fb1-b36c-4811-945f-6bcb83859d91",
   "metadata": {},
   "outputs": [
    {
     "name": "stdout",
     "output_type": "stream",
     "text": [
      "0      7\n",
      "1      6\n",
      "2      1\n",
      "3      6\n",
      "4      6\n",
      "      ..\n",
      "995    5\n",
      "996    7\n",
      "997    7\n",
      "998    7\n",
      "999    6\n",
      "Name: Genre_0_Numerico, Length: 1000, dtype: int64\n"
     ]
    }
   ],
   "source": [
    "print(data_filt[\"Genre_0_Numerico\"])"
   ]
  },
  {
   "cell_type": "code",
   "execution_count": 1318,
   "id": "ced3a91f-c9dd-4281-b7be-99834222f7ef",
   "metadata": {},
   "outputs": [
    {
     "name": "stdout",
     "output_type": "stream",
     "text": [
      "<class 'pandas.core.frame.DataFrame'>\n",
      "RangeIndex: 478 entries, 0 to 477\n",
      "Data columns (total 15 columns):\n",
      " #   Column         Non-Null Count  Dtype  \n",
      "---  ------         --------------  -----  \n",
      " 0   IMDB_Rating    478 non-null    float64\n",
      " 1   Series_Title   478 non-null    object \n",
      " 2   Released_Year  477 non-null    float64\n",
      " 3   Certificate    478 non-null    object \n",
      " 4   Runtime        478 non-null    object \n",
      " 5   Overview       478 non-null    object \n",
      " 6   Meta_score     478 non-null    float64\n",
      " 7   Director       478 non-null    object \n",
      " 8   Star1          478 non-null    object \n",
      " 9   Star2          478 non-null    object \n",
      " 10  No_of_Votes    478 non-null    int64  \n",
      " 11  Gross          478 non-null    object \n",
      " 12  Genre_0        478 non-null    object \n",
      " 13  Genre_1        478 non-null    object \n",
      " 14  Genre_2        478 non-null    object \n",
      "dtypes: float64(3), int64(1), object(11)\n",
      "memory usage: 56.1+ KB\n"
     ]
    }
   ],
   "source": [
    "data_filt.info()"
   ]
  },
  {
   "cell_type": "code",
   "execution_count": 1320,
   "id": "697a5a66-ee54-4d3f-9218-fa0aa055038d",
   "metadata": {},
   "outputs": [
    {
     "name": "stdout",
     "output_type": "stream",
     "text": [
      "0      7\n",
      "1      6\n",
      "2      1\n",
      "3      6\n",
      "4      6\n",
      "      ..\n",
      "995    5\n",
      "996    7\n",
      "997    7\n",
      "998    7\n",
      "999    6\n",
      "Name: Genre_0_Numerico, Length: 1000, dtype: int64\n",
      "['Action' 'Adventure' 'Animation' 'Biography' 'Comedy' 'Crime' 'Drama'\n",
      " 'Family' 'Fantasy' 'Film-Noir' 'Horror' 'Mystery' 'Thriller' 'Western']\n",
      "IMDB_Rating                               9.3\n",
      "Series_Title         The Shawshank Redemption\n",
      "Released_Year                          1994.0\n",
      "Runtime                                   142\n",
      "Director                       Frank Darabont\n",
      "Star1                             Tim Robbins\n",
      "No_of_Votes                           2343110\n",
      "Genre_0                                 Drama\n",
      "Genre_1                                   NaN\n",
      "Genre_2                                   NaN\n",
      "Series_numerico                            16\n",
      "Director_numerico                         141\n",
      "Star1_numerico                            599\n",
      "Genre_0_Numerico                            7\n",
      "Name: 0, dtype: object\n",
      "0      21\n",
      "1       6\n",
      "2       5\n",
      "3       6\n",
      "4       6\n",
      "       ..\n",
      "995     6\n",
      "996    20\n",
      "997    15\n",
      "998    19\n",
      "999    14\n",
      "Name: Genre_1_Numerico, Length: 1000, dtype: int64\n",
      "[' Action' ' Adventure' ' Biography' ' Comedy' ' Crime' ' Drama' ' Family'\n",
      " ' Fantasy' ' Film-Noir' ' History' ' Horror' ' Music' ' Musical'\n",
      " ' Mystery' ' Romance' ' Sci-Fi' ' Sport' ' Thriller' ' War' ' Western'\n",
      " nan]\n",
      "0      20\n",
      "1      20\n",
      "2       5\n",
      "3      20\n",
      "4      20\n",
      "       ..\n",
      "995    14\n",
      "996    20\n",
      "997    18\n",
      "998    20\n",
      "999    17\n",
      "Name: Genre_2_Numerico, Length: 1000, dtype: int64\n",
      "[' Adventure' ' Biography' ' Comedy' ' Crime' ' Drama' ' Family'\n",
      " ' Fantasy' ' Film-Noir' ' History' ' Horror' ' Music' ' Musical'\n",
      " ' Mystery' ' Romance' ' Sci-Fi' ' Sport' ' Thriller' ' War' ' Western'\n",
      " nan]\n"
     ]
    }
   ],
   "source": [
    "#Pasamos los géneros de las películas a valores numericos y los asignamos \n",
    "encoderS= LabelEncoder()\n",
    "encoded_dataS = encoderS.fit_transform(data_filt['Genre_0'])\n",
    "data_filt['Genre_0_Numerico'] = encoder.fit_transform(data_filt['Genre_0']) +1\n",
    "print(data_filt['Genre_0_Numerico'])\n",
    "etiquetas_generos = encoderS.classes_\n",
    "print(etiquetas_generos)\n",
    "fila = data_filt.loc[0]\n",
    "print(fila)\n",
    "\n",
    "encoderS= LabelEncoder()\n",
    "encoded_dataS = encoderS.fit_transform(data_filt['Genre_1'])\n",
    "data_filt['Genre_1_Numerico'] = encoder.fit_transform(data_filt['Genre_1']) +1\n",
    "print(data_filt['Genre_1_Numerico'])\n",
    "etiquetas_generos = encoderS.classes_\n",
    "print(etiquetas_generos)\n",
    "\n",
    "\n",
    "\n",
    "encoderS= LabelEncoder()\n",
    "encoded_dataS = encoderS.fit_transform(data_filt['Genre_2'])\n",
    "data_filt['Genre_2_Numerico'] = encoder.fit_transform(data_filt['Genre_2']) +1\n",
    "print(data_filt['Genre_2_Numerico'])\n",
    "etiquetas_generos = encoderS.classes_\n",
    "print(etiquetas_generos)\n",
    "\n",
    "\n"
   ]
  },
  {
   "cell_type": "code",
   "execution_count": 1321,
   "id": "2640b2e4-e11b-478a-a3ad-05f9ebf2ca3f",
   "metadata": {},
   "outputs": [
    {
     "data": {
      "text/plain": [
       "<bound method DataFrame.info of      IMDB_Rating              Series_Title  Released_Year  Runtime  \\\n",
       "0            9.3  The Shawshank Redemption         1994.0      142   \n",
       "1            9.2             The Godfather         1972.0      175   \n",
       "2            9.0           The Dark Knight         2008.0      152   \n",
       "3            9.0    The Godfather: Part II         1974.0      202   \n",
       "4            9.0              12 Angry Men         1957.0       96   \n",
       "..           ...                       ...            ...      ...   \n",
       "995          7.6    Breakfast at Tiffany's         1961.0      115   \n",
       "996          7.6                     Giant         1956.0      201   \n",
       "997          7.6     From Here to Eternity         1953.0      118   \n",
       "998          7.6                  Lifeboat         1944.0       97   \n",
       "999          7.6              The 39 Steps         1935.0       86   \n",
       "\n",
       "                 Director              Star1  No_of_Votes Genre_0   Genre_1  \\\n",
       "0          Frank Darabont        Tim Robbins      2343110   Drama       NaN   \n",
       "1    Francis Ford Coppola      Marlon Brando      1620367   Crime     Drama   \n",
       "2       Christopher Nolan     Christian Bale      2303232  Action     Crime   \n",
       "3    Francis Ford Coppola          Al Pacino      1129952   Crime     Drama   \n",
       "4            Sidney Lumet        Henry Fonda       689845   Crime     Drama   \n",
       "..                    ...                ...          ...     ...       ...   \n",
       "995         Blake Edwards     Audrey Hepburn       166544  Comedy     Drama   \n",
       "996        George Stevens   Elizabeth Taylor        34075   Drama   Western   \n",
       "997        Fred Zinnemann     Burt Lancaster        43374   Drama   Romance   \n",
       "998      Alfred Hitchcock  Tallulah Bankhead        26471   Drama       War   \n",
       "999      Alfred Hitchcock       Robert Donat        51853   Crime   Mystery   \n",
       "\n",
       "       Genre_2  Series_numerico  Director_numerico  Star1_numerico  \\\n",
       "0          NaN               16                141             599   \n",
       "1          NaN               15                137             417   \n",
       "2        Drama               14                 83             128   \n",
       "3          NaN               14                137               9   \n",
       "4          NaN               14                456             252   \n",
       "..         ...              ...                ...             ...   \n",
       "995    Romance                0                 50              50   \n",
       "996        NaN                0                164             185   \n",
       "997        War                0                145              96   \n",
       "998        NaN                0                 22             588   \n",
       "999   Thriller                0                 22             515   \n",
       "\n",
       "     Genre_0_Numerico  Genre_1_Numerico  Genre_2_Numerico  \n",
       "0                   7                21                20  \n",
       "1                   6                 6                20  \n",
       "2                   1                 5                 5  \n",
       "3                   6                 6                20  \n",
       "4                   6                 6                20  \n",
       "..                ...               ...               ...  \n",
       "995                 5                 6                14  \n",
       "996                 7                20                20  \n",
       "997                 7                15                18  \n",
       "998                 7                19                20  \n",
       "999                 6                14                17  \n",
       "\n",
       "[1000 rows x 16 columns]>"
      ]
     },
     "execution_count": 1321,
     "metadata": {},
     "output_type": "execute_result"
    }
   ],
   "source": [
    "data_filt.info\n"
   ]
  },
  {
   "cell_type": "code",
   "execution_count": 1322,
   "id": "572cd44d-cd3f-4509-b2ce-b3319dbe513e",
   "metadata": {},
   "outputs": [
    {
     "data": {
      "text/plain": [
       "IMDB_Rating          float64\n",
       "Series_Title          object\n",
       "Released_Year        float64\n",
       "Runtime                int64\n",
       "Director              object\n",
       "Star1                 object\n",
       "No_of_Votes            int64\n",
       "Genre_0               object\n",
       "Genre_1               object\n",
       "Genre_2               object\n",
       "Series_numerico        int64\n",
       "Director_numerico      int64\n",
       "Star1_numerico         int64\n",
       "Genre_0_Numerico       int64\n",
       "Genre_1_Numerico       int64\n",
       "Genre_2_Numerico       int64\n",
       "dtype: object"
      ]
     },
     "execution_count": 1322,
     "metadata": {},
     "output_type": "execute_result"
    }
   ],
   "source": [
    "data_filt.dtypes"
   ]
  },
  {
   "cell_type": "code",
   "execution_count": 1323,
   "id": "142f5bd9-0a46-4c35-9956-d25d2e0c423d",
   "metadata": {},
   "outputs": [],
   "source": [
    "data_filt_2 = data_filt.copy()"
   ]
  },
  {
   "cell_type": "code",
   "execution_count": 1324,
   "id": "acb2f503-0010-48d6-9198-be66f264eff8",
   "metadata": {},
   "outputs": [
    {
     "data": {
      "text/plain": [
       "IMDB_Rating          float64\n",
       "Series_Title          object\n",
       "Released_Year        float64\n",
       "Runtime                int64\n",
       "Director              object\n",
       "Star1                 object\n",
       "No_of_Votes            int64\n",
       "Genre_0               object\n",
       "Genre_1               object\n",
       "Genre_2               object\n",
       "Series_numerico        int64\n",
       "Director_numerico      int64\n",
       "Star1_numerico         int64\n",
       "Genre_0_Numerico       int64\n",
       "Genre_1_Numerico       int64\n",
       "Genre_2_Numerico       int64\n",
       "dtype: object"
      ]
     },
     "execution_count": 1324,
     "metadata": {},
     "output_type": "execute_result"
    }
   ],
   "source": [
    "data_filt_2.dtypes\n"
   ]
  },
  {
   "cell_type": "code",
   "execution_count": 1325,
   "id": "73866a77-1496-488e-b57d-065f1795a8ac",
   "metadata": {},
   "outputs": [],
   "source": [
    "columnas_drop= [\"Series_Title\",\"Star1\", \"Series_numerico\", \"Genre_1\", \"Genre_2\",\"Director\",\"Genre_0\"]\n",
    "\n",
    "data_filt_2 = data_filt_2.drop(columns=columnas_drop)"
   ]
  },
  {
   "cell_type": "code",
   "execution_count": 1326,
   "id": "cbb89073-f7af-4c50-9907-319c47a063a6",
   "metadata": {},
   "outputs": [
    {
     "data": {
      "text/plain": [
       "IMDB_Rating          float64\n",
       "Released_Year        float64\n",
       "Runtime                int64\n",
       "No_of_Votes            int64\n",
       "Director_numerico      int64\n",
       "Star1_numerico         int64\n",
       "Genre_0_Numerico       int64\n",
       "Genre_1_Numerico       int64\n",
       "Genre_2_Numerico       int64\n",
       "dtype: object"
      ]
     },
     "execution_count": 1326,
     "metadata": {},
     "output_type": "execute_result"
    }
   ],
   "source": [
    "data_filt_2.dtypes\n"
   ]
  },
  {
   "cell_type": "code",
   "execution_count": 1328,
   "id": "528a8bd0-fbb2-4560-9f72-481de2a81970",
   "metadata": {},
   "outputs": [
    {
     "name": "stdout",
     "output_type": "stream",
     "text": [
      "IMDB_Rating\n",
      "['Released_Year', 'Runtime', 'No_of_Votes', 'Director_numerico', 'Star1_numerico', 'Genre_0_Numerico', 'Genre_1_Numerico', 'Genre_2_Numerico']\n"
     ]
    }
   ],
   "source": [
    "# Generar la lista de features y la variable target\n",
    "target = 'IMDB_Rating'\n",
    "features = [x for x in data_filt_2.columns if x!=target]\n",
    "\n",
    "print(target)\n",
    "print(features)"
   ]
  },
  {
   "cell_type": "code",
   "execution_count": 1329,
   "id": "cf560c98-899a-46fb-855e-b2c9d842a8de",
   "metadata": {},
   "outputs": [
    {
     "data": {
      "text/plain": [
       "0      9.3\n",
       "1      9.2\n",
       "2      9.0\n",
       "3      9.0\n",
       "4      9.0\n",
       "      ... \n",
       "995    7.6\n",
       "996    7.6\n",
       "997    7.6\n",
       "998    7.6\n",
       "999    7.6\n",
       "Name: IMDB_Rating, Length: 1000, dtype: float64"
      ]
     },
     "execution_count": 1329,
     "metadata": {},
     "output_type": "execute_result"
    }
   ],
   "source": [
    "data_filt_2[target]"
   ]
  },
  {
   "cell_type": "code",
   "execution_count": 1330,
   "id": "467b46c4-cb2a-4ef5-b93f-94d8b06ac933",
   "metadata": {},
   "outputs": [],
   "source": [
    "#Teniamos un dato NAN que hemos eliminado\n",
    "data_filt_2 = data_filt_2.dropna()\n"
   ]
  },
  {
   "cell_type": "code",
   "execution_count": 1331,
   "id": "e2d856f2-f6ea-45d0-9acb-270a40722957",
   "metadata": {},
   "outputs": [
    {
     "data": {
      "text/plain": [
       "IMDB_Rating          0\n",
       "Released_Year        0\n",
       "Runtime              0\n",
       "No_of_Votes          0\n",
       "Director_numerico    0\n",
       "Star1_numerico       0\n",
       "Genre_0_Numerico     0\n",
       "Genre_1_Numerico     0\n",
       "Genre_2_Numerico     0\n",
       "dtype: int64"
      ]
     },
     "execution_count": 1331,
     "metadata": {},
     "output_type": "execute_result"
    }
   ],
   "source": [
    "data_filt_2.isna().sum()"
   ]
  },
  {
   "cell_type": "code",
   "execution_count": 1332,
   "id": "7b43d9c1-0203-441d-ab66-df8bde5917d4",
   "metadata": {},
   "outputs": [
    {
     "data": {
      "text/plain": [
       "DecisionTreeRegressor(max_depth=18, random_state=100)"
      ]
     },
     "execution_count": 1332,
     "metadata": {},
     "output_type": "execute_result"
    }
   ],
   "source": [
    "# Importar el algoritmo de árboles de decisión\n",
    "from sklearn.tree import DecisionTreeRegressor\n",
    "\n",
    "# Asignar el algortimo e indicar la profundidad máxima del árbol (con un número rotandamente grande para sobreajustar)\n",
    "arbol_importancia = DecisionTreeRegressor(max_depth=len(features)+10, random_state=100)\n",
    "\n",
    "# Entrenar un árbol con todo el conjunto de datos\n",
    "arbol_importancia.fit(X=data_filt_2[features], y=data_filt_2[target])"
   ]
  },
  {
   "cell_type": "code",
   "execution_count": 1333,
   "id": "572d3240-0f12-4e28-b082-fbdf1bfeab8b",
   "metadata": {},
   "outputs": [
    {
     "name": "stdout",
     "output_type": "stream",
     "text": [
      "Mean Absolute Error: 0.012377126821571329\n",
      "Mean Absolute Percentage Error: 0.15880145531679538\n",
      "Mean Squared Error: 0.0014813727035949272\n",
      "Root Mean Squared Error: 0.038488604853838586\n",
      "R^2 coefficient of determination: 0.9804498995584277\n"
     ]
    }
   ],
   "source": [
    "y_pred_arbol = arbol_importancia.predict(X=data_filt_2[features])\n",
    "\n",
    "from sklearn.metrics import mean_absolute_error\n",
    "from sklearn.metrics import mean_absolute_percentage_error\n",
    "from sklearn.metrics import mean_squared_error\n",
    "from sklearn.metrics import r2_score\n",
    "\n",
    "# Métricas para evaluar la calidad del modelo\n",
    "print('Mean Absolute Error:', mean_absolute_error(data_filt_2[target], y_pred_arbol))\n",
    "print('Mean Absolute Percentage Error:', mean_absolute_percentage_error(data_filt_2[target], y_pred_arbol)*100)\n",
    "print('Mean Squared Error:', mean_squared_error(data_filt_2[target], y_pred_arbol))\n",
    "print('Root Mean Squared Error:', np.sqrt(mean_squared_error(data_filt_2[target], y_pred_arbol)))\n",
    "print('R^2 coefficient of determination:', r2_score(data_filt_2[target], y_pred_arbol))"
   ]
  },
  {
   "cell_type": "code",
   "execution_count": 1334,
   "id": "3378f69a-c729-49cd-9afb-dc92beec46b9",
   "metadata": {},
   "outputs": [
    {
     "data": {
      "text/plain": [
       "array([0.17938802, 0.10039945, 0.48089103, 0.07969327, 0.07168448,\n",
       "       0.0250555 , 0.03218011, 0.03070815])"
      ]
     },
     "execution_count": 1334,
     "metadata": {},
     "output_type": "execute_result"
    }
   ],
   "source": [
    "#Te da los porcentajes de importancia, siemrpe va a sumar 1\n",
    "\n",
    "arbol_importancia.feature_importances_"
   ]
  },
  {
   "cell_type": "code",
   "execution_count": 1335,
   "id": "929f0e0e-6791-4d4e-b552-414593ba7367",
   "metadata": {},
   "outputs": [
    {
     "data": {
      "text/html": [
       "<div>\n",
       "<style scoped>\n",
       "    .dataframe tbody tr th:only-of-type {\n",
       "        vertical-align: middle;\n",
       "    }\n",
       "\n",
       "    .dataframe tbody tr th {\n",
       "        vertical-align: top;\n",
       "    }\n",
       "\n",
       "    .dataframe thead th {\n",
       "        text-align: right;\n",
       "    }\n",
       "</style>\n",
       "<table border=\"1\" class=\"dataframe\">\n",
       "  <thead>\n",
       "    <tr style=\"text-align: right;\">\n",
       "      <th></th>\n",
       "      <th>Importancia</th>\n",
       "    </tr>\n",
       "  </thead>\n",
       "  <tbody>\n",
       "    <tr>\n",
       "      <th>No_of_Votes</th>\n",
       "      <td>0.480891</td>\n",
       "    </tr>\n",
       "    <tr>\n",
       "      <th>Released_Year</th>\n",
       "      <td>0.179388</td>\n",
       "    </tr>\n",
       "    <tr>\n",
       "      <th>Runtime</th>\n",
       "      <td>0.100399</td>\n",
       "    </tr>\n",
       "    <tr>\n",
       "      <th>Director_numerico</th>\n",
       "      <td>0.079693</td>\n",
       "    </tr>\n",
       "    <tr>\n",
       "      <th>Star1_numerico</th>\n",
       "      <td>0.071684</td>\n",
       "    </tr>\n",
       "    <tr>\n",
       "      <th>Genre_1_Numerico</th>\n",
       "      <td>0.032180</td>\n",
       "    </tr>\n",
       "    <tr>\n",
       "      <th>Genre_2_Numerico</th>\n",
       "      <td>0.030708</td>\n",
       "    </tr>\n",
       "    <tr>\n",
       "      <th>Genre_0_Numerico</th>\n",
       "      <td>0.025055</td>\n",
       "    </tr>\n",
       "  </tbody>\n",
       "</table>\n",
       "</div>"
      ],
      "text/plain": [
       "                   Importancia\n",
       "No_of_Votes           0.480891\n",
       "Released_Year         0.179388\n",
       "Runtime               0.100399\n",
       "Director_numerico     0.079693\n",
       "Star1_numerico        0.071684\n",
       "Genre_1_Numerico      0.032180\n",
       "Genre_2_Numerico      0.030708\n",
       "Genre_0_Numerico      0.025055"
      ]
     },
     "execution_count": 1335,
     "metadata": {},
     "output_type": "execute_result"
    }
   ],
   "source": [
    "# Creamos un DataFrame con los datos de importancia\n",
    "importancia = pd.DataFrame(arbol_importancia.feature_importances_, index=features, columns=[\"Importancia\"])\n",
    "\n",
    "# Ordenamos los datos\n",
    "importancia.sort_values(by=importancia.columns[0], ascending=False, inplace=True)\n",
    "importancia"
   ]
  },
  {
   "cell_type": "code",
   "execution_count": 1336,
   "id": "f19fea64-32b4-4390-9b7b-fcb57b99743c",
   "metadata": {},
   "outputs": [
    {
     "data": {
      "text/html": [
       "<div>\n",
       "<style scoped>\n",
       "    .dataframe tbody tr th:only-of-type {\n",
       "        vertical-align: middle;\n",
       "    }\n",
       "\n",
       "    .dataframe tbody tr th {\n",
       "        vertical-align: top;\n",
       "    }\n",
       "\n",
       "    .dataframe thead th {\n",
       "        text-align: right;\n",
       "    }\n",
       "</style>\n",
       "<table border=\"1\" class=\"dataframe\">\n",
       "  <thead>\n",
       "    <tr style=\"text-align: right;\">\n",
       "      <th></th>\n",
       "      <th>Importancia</th>\n",
       "      <th>imp_acum</th>\n",
       "    </tr>\n",
       "  </thead>\n",
       "  <tbody>\n",
       "    <tr>\n",
       "      <th>No_of_Votes</th>\n",
       "      <td>0.480891</td>\n",
       "      <td>0.480891</td>\n",
       "    </tr>\n",
       "    <tr>\n",
       "      <th>Released_Year</th>\n",
       "      <td>0.179388</td>\n",
       "      <td>0.660279</td>\n",
       "    </tr>\n",
       "    <tr>\n",
       "      <th>Runtime</th>\n",
       "      <td>0.100399</td>\n",
       "      <td>0.760679</td>\n",
       "    </tr>\n",
       "    <tr>\n",
       "      <th>Director_numerico</th>\n",
       "      <td>0.079693</td>\n",
       "      <td>0.840372</td>\n",
       "    </tr>\n",
       "    <tr>\n",
       "      <th>Star1_numerico</th>\n",
       "      <td>0.071684</td>\n",
       "      <td>0.912056</td>\n",
       "    </tr>\n",
       "    <tr>\n",
       "      <th>Genre_1_Numerico</th>\n",
       "      <td>0.032180</td>\n",
       "      <td>0.944236</td>\n",
       "    </tr>\n",
       "    <tr>\n",
       "      <th>Genre_2_Numerico</th>\n",
       "      <td>0.030708</td>\n",
       "      <td>0.974945</td>\n",
       "    </tr>\n",
       "    <tr>\n",
       "      <th>Genre_0_Numerico</th>\n",
       "      <td>0.025055</td>\n",
       "      <td>1.000000</td>\n",
       "    </tr>\n",
       "  </tbody>\n",
       "</table>\n",
       "</div>"
      ],
      "text/plain": [
       "                   Importancia  imp_acum\n",
       "No_of_Votes           0.480891  0.480891\n",
       "Released_Year         0.179388  0.660279\n",
       "Runtime               0.100399  0.760679\n",
       "Director_numerico     0.079693  0.840372\n",
       "Star1_numerico        0.071684  0.912056\n",
       "Genre_1_Numerico      0.032180  0.944236\n",
       "Genre_2_Numerico      0.030708  0.974945\n",
       "Genre_0_Numerico      0.025055  1.000000"
      ]
     },
     "execution_count": 1336,
     "metadata": {},
     "output_type": "execute_result"
    }
   ],
   "source": [
    "importancia[\"imp_acum\"] = importancia[\"Importancia\"].cumsum()\n",
    "importancia"
   ]
  },
  {
   "cell_type": "code",
   "execution_count": 1369,
   "id": "83471698-92d1-4b88-aa44-0232f0c309c8",
   "metadata": {},
   "outputs": [
    {
     "name": "stdout",
     "output_type": "stream",
     "text": [
      "['No_of_Votes', 'Released_Year', 'Runtime', 'Director_numerico', 'Star1_numerico', 'Genre_1_Numerico', 'Genre_2_Numerico', 'Genre_0_Numerico']\n"
     ]
    }
   ],
   "source": [
    "# Definimos la lista de variables no tan importantes, cortando por el porcentaje de 85% de la información necesaria\n",
    "variables = importancia.loc[importancia['imp_acum']>0].index.to_list()\n",
    "print(variables)"
   ]
  },
  {
   "cell_type": "code",
   "execution_count": 1370,
   "id": "03c93b16-3e3d-415a-b34a-bee5888da27d",
   "metadata": {},
   "outputs": [
    {
     "name": "stdout",
     "output_type": "stream",
     "text": [
      "8\n",
      "Variables iniciales:  8\n",
      "Variables no importantes (a eliminar):  8\n"
     ]
    }
   ],
   "source": [
    "print(len(variables))\n",
    "print(\"Variables iniciales: \", len(features))\n",
    "print(\"Variables no importantes (a eliminar): \", len(variables))"
   ]
  },
  {
   "cell_type": "code",
   "execution_count": 1371,
   "id": "e98cdb38-9c72-449c-b835-4cb25c785e68",
   "metadata": {},
   "outputs": [
    {
     "data": {
      "text/html": [
       "<div>\n",
       "<style scoped>\n",
       "    .dataframe tbody tr th:only-of-type {\n",
       "        vertical-align: middle;\n",
       "    }\n",
       "\n",
       "    .dataframe tbody tr th {\n",
       "        vertical-align: top;\n",
       "    }\n",
       "\n",
       "    .dataframe thead th {\n",
       "        text-align: right;\n",
       "    }\n",
       "</style>\n",
       "<table border=\"1\" class=\"dataframe\">\n",
       "  <thead>\n",
       "    <tr style=\"text-align: right;\">\n",
       "      <th></th>\n",
       "      <th>IMDB_Rating</th>\n",
       "    </tr>\n",
       "  </thead>\n",
       "  <tbody>\n",
       "    <tr>\n",
       "      <th>0</th>\n",
       "      <td>9.3</td>\n",
       "    </tr>\n",
       "    <tr>\n",
       "      <th>1</th>\n",
       "      <td>9.2</td>\n",
       "    </tr>\n",
       "    <tr>\n",
       "      <th>2</th>\n",
       "      <td>9.0</td>\n",
       "    </tr>\n",
       "    <tr>\n",
       "      <th>3</th>\n",
       "      <td>9.0</td>\n",
       "    </tr>\n",
       "    <tr>\n",
       "      <th>4</th>\n",
       "      <td>9.0</td>\n",
       "    </tr>\n",
       "    <tr>\n",
       "      <th>...</th>\n",
       "      <td>...</td>\n",
       "    </tr>\n",
       "    <tr>\n",
       "      <th>995</th>\n",
       "      <td>7.6</td>\n",
       "    </tr>\n",
       "    <tr>\n",
       "      <th>996</th>\n",
       "      <td>7.6</td>\n",
       "    </tr>\n",
       "    <tr>\n",
       "      <th>997</th>\n",
       "      <td>7.6</td>\n",
       "    </tr>\n",
       "    <tr>\n",
       "      <th>998</th>\n",
       "      <td>7.6</td>\n",
       "    </tr>\n",
       "    <tr>\n",
       "      <th>999</th>\n",
       "      <td>7.6</td>\n",
       "    </tr>\n",
       "  </tbody>\n",
       "</table>\n",
       "<p>999 rows × 1 columns</p>\n",
       "</div>"
      ],
      "text/plain": [
       "     IMDB_Rating\n",
       "0            9.3\n",
       "1            9.2\n",
       "2            9.0\n",
       "3            9.0\n",
       "4            9.0\n",
       "..           ...\n",
       "995          7.6\n",
       "996          7.6\n",
       "997          7.6\n",
       "998          7.6\n",
       "999          7.6\n",
       "\n",
       "[999 rows x 1 columns]"
      ]
     },
     "execution_count": 1371,
     "metadata": {},
     "output_type": "execute_result"
    }
   ],
   "source": [
    "data_filt_3 = data_filt_2.drop(labels=variables, axis='columns')\n",
    "data_filt_3"
   ]
  },
  {
   "cell_type": "code",
   "execution_count": 1393,
   "id": "e000f310-0c65-4601-86bb-75715f3d0f92",
   "metadata": {},
   "outputs": [],
   "source": [
    "# Hacemos una copia del tablón filtrado para no trabajar sobre original\n",
    "data_filt_4 = data_filt_3.copy()"
   ]
  },
  {
   "cell_type": "code",
   "execution_count": 1394,
   "id": "73c8811b-8abb-485f-88b1-eb3edff42582",
   "metadata": {},
   "outputs": [
    {
     "data": {
      "text/html": [
       "<div>\n",
       "<style scoped>\n",
       "    .dataframe tbody tr th:only-of-type {\n",
       "        vertical-align: middle;\n",
       "    }\n",
       "\n",
       "    .dataframe tbody tr th {\n",
       "        vertical-align: top;\n",
       "    }\n",
       "\n",
       "    .dataframe thead th {\n",
       "        text-align: right;\n",
       "    }\n",
       "</style>\n",
       "<table border=\"1\" class=\"dataframe\">\n",
       "  <thead>\n",
       "    <tr style=\"text-align: right;\">\n",
       "      <th></th>\n",
       "      <th>Escenario</th>\n",
       "    </tr>\n",
       "  </thead>\n",
       "  <tbody>\n",
       "    <tr>\n",
       "      <th>0</th>\n",
       "      <td>1</td>\n",
       "    </tr>\n",
       "    <tr>\n",
       "      <th>1</th>\n",
       "      <td>1</td>\n",
       "    </tr>\n",
       "    <tr>\n",
       "      <th>2</th>\n",
       "      <td>1</td>\n",
       "    </tr>\n",
       "    <tr>\n",
       "      <th>3</th>\n",
       "      <td>1</td>\n",
       "    </tr>\n",
       "    <tr>\n",
       "      <th>4</th>\n",
       "      <td>1</td>\n",
       "    </tr>\n",
       "    <tr>\n",
       "      <th>...</th>\n",
       "      <td>...</td>\n",
       "    </tr>\n",
       "    <tr>\n",
       "      <th>995</th>\n",
       "      <td>0</td>\n",
       "    </tr>\n",
       "    <tr>\n",
       "      <th>996</th>\n",
       "      <td>0</td>\n",
       "    </tr>\n",
       "    <tr>\n",
       "      <th>997</th>\n",
       "      <td>0</td>\n",
       "    </tr>\n",
       "    <tr>\n",
       "      <th>998</th>\n",
       "      <td>0</td>\n",
       "    </tr>\n",
       "    <tr>\n",
       "      <th>999</th>\n",
       "      <td>0</td>\n",
       "    </tr>\n",
       "  </tbody>\n",
       "</table>\n",
       "<p>999 rows × 1 columns</p>\n",
       "</div>"
      ],
      "text/plain": [
       "     Escenario\n",
       "0            1\n",
       "1            1\n",
       "2            1\n",
       "3            1\n",
       "4            1\n",
       "..         ...\n",
       "995          0\n",
       "996          0\n",
       "997          0\n",
       "998          0\n",
       "999          0\n",
       "\n",
       "[999 rows x 1 columns]"
      ]
     },
     "execution_count": 1394,
     "metadata": {},
     "output_type": "execute_result"
    }
   ],
   "source": [
    "# Crear la columna nueva \"Escenario\" y borrar la columna target antigua 'Calidad_NO2'\n",
    "data_filt_4[\"Escenario\"] = np.where(data_filt_4['IMDB_Rating']<data_filt_4['IMDB_Rating'].quantile(0.33),0,1)\n",
    "\n",
    "data_filt_4.drop(['IMDB_Rating'], axis='columns', inplace=True)\n",
    "data_filt_4"
   ]
  },
  {
   "cell_type": "code",
   "execution_count": 1395,
   "id": "31baa1bd-165e-42f4-9876-a8d647f15d53",
   "metadata": {},
   "outputs": [
    {
     "data": {
      "text/html": [
       "<div>\n",
       "<style scoped>\n",
       "    .dataframe tbody tr th:only-of-type {\n",
       "        vertical-align: middle;\n",
       "    }\n",
       "\n",
       "    .dataframe tbody tr th {\n",
       "        vertical-align: top;\n",
       "    }\n",
       "\n",
       "    .dataframe thead th {\n",
       "        text-align: right;\n",
       "    }\n",
       "</style>\n",
       "<table border=\"1\" class=\"dataframe\">\n",
       "  <thead>\n",
       "    <tr style=\"text-align: right;\">\n",
       "      <th></th>\n",
       "      <th>Escenario</th>\n",
       "    </tr>\n",
       "  </thead>\n",
       "  <tbody>\n",
       "    <tr>\n",
       "      <th>count</th>\n",
       "      <td>999.000000</td>\n",
       "    </tr>\n",
       "    <tr>\n",
       "      <th>mean</th>\n",
       "      <td>0.720721</td>\n",
       "    </tr>\n",
       "    <tr>\n",
       "      <th>std</th>\n",
       "      <td>0.448870</td>\n",
       "    </tr>\n",
       "    <tr>\n",
       "      <th>min</th>\n",
       "      <td>0.000000</td>\n",
       "    </tr>\n",
       "    <tr>\n",
       "      <th>25%</th>\n",
       "      <td>0.000000</td>\n",
       "    </tr>\n",
       "    <tr>\n",
       "      <th>50%</th>\n",
       "      <td>1.000000</td>\n",
       "    </tr>\n",
       "    <tr>\n",
       "      <th>75%</th>\n",
       "      <td>1.000000</td>\n",
       "    </tr>\n",
       "    <tr>\n",
       "      <th>max</th>\n",
       "      <td>1.000000</td>\n",
       "    </tr>\n",
       "  </tbody>\n",
       "</table>\n",
       "</div>"
      ],
      "text/plain": [
       "        Escenario\n",
       "count  999.000000\n",
       "mean     0.720721\n",
       "std      0.448870\n",
       "min      0.000000\n",
       "25%      0.000000\n",
       "50%      1.000000\n",
       "75%      1.000000\n",
       "max      1.000000"
      ]
     },
     "execution_count": 1395,
     "metadata": {},
     "output_type": "execute_result"
    }
   ],
   "source": [
    "data_filt_4.describe()"
   ]
  },
  {
   "cell_type": "code",
   "execution_count": 1397,
   "id": "02698bda-1bd2-44fa-aaa4-9f8d3819a6ec",
   "metadata": {},
   "outputs": [
    {
     "data": {
      "image/png": "[encoded data removed]",
      "text/plain": [
       "<Figure size 1440x432 with 1 Axes>"
      ]
     },
     "metadata": {
      "needs_background": "light"
     },
     "output_type": "display_data"
    }
   ],
   "source": [
    "# Graficar la distribución de los valores originales\n",
    "plt.figure(figsize=(20,6))\n",
    "sns.violinplot(data=data_filt_4, orient='v')\n",
    "plt.show()\n",
    "\n",
    "#la parte de abajo, pertenece a los valores por debajo de el percentil 33 de la variable target en este caso, que tiene valor 0\n",
    "#la parte de abajo, pertenece a los valores por arriba de el percentil 33 de la variable target en este caso, que tiene valor 1 "
   ]
  },
  {
   "cell_type": "code",
   "execution_count": 1398,
   "id": "3aeedd0e-27d4-409b-aa02-e784310834ee",
   "metadata": {},
   "outputs": [],
   "source": [
    "## Preparar el conjunto de datos del modelo\n",
    "\n",
    "# Variables independientes (features)\n",
    "X = data_filt_4.drop('Escenario', axis='columns')\n",
    "\n",
    "# Variable dependiente (target) que son los niveles de aire con menos contaminación\n",
    "y = data_filt_4['Escenario']"
   ]
  },
  {
   "cell_type": "code",
   "execution_count": 1400,
   "id": "1bea2933-fbbc-445c-b09c-5b6e673d0bc9",
   "metadata": {},
   "outputs": [
    {
     "data": {
      "text/html": [
       "<div>\n",
       "<style scoped>\n",
       "    .dataframe tbody tr th:only-of-type {\n",
       "        vertical-align: middle;\n",
       "    }\n",
       "\n",
       "    .dataframe tbody tr th {\n",
       "        vertical-align: top;\n",
       "    }\n",
       "\n",
       "    .dataframe thead th {\n",
       "        text-align: right;\n",
       "    }\n",
       "</style>\n",
       "<table border=\"1\" class=\"dataframe\">\n",
       "  <thead>\n",
       "    <tr style=\"text-align: right;\">\n",
       "      <th></th>\n",
       "    </tr>\n",
       "  </thead>\n",
       "  <tbody>\n",
       "    <tr>\n",
       "      <th>0</th>\n",
       "    </tr>\n",
       "    <tr>\n",
       "      <th>1</th>\n",
       "    </tr>\n",
       "    <tr>\n",
       "      <th>2</th>\n",
       "    </tr>\n",
       "    <tr>\n",
       "      <th>3</th>\n",
       "    </tr>\n",
       "    <tr>\n",
       "      <th>4</th>\n",
       "    </tr>\n",
       "    <tr>\n",
       "      <th>...</th>\n",
       "    </tr>\n",
       "    <tr>\n",
       "      <th>995</th>\n",
       "    </tr>\n",
       "    <tr>\n",
       "      <th>996</th>\n",
       "    </tr>\n",
       "    <tr>\n",
       "      <th>997</th>\n",
       "    </tr>\n",
       "    <tr>\n",
       "      <th>998</th>\n",
       "    </tr>\n",
       "    <tr>\n",
       "      <th>999</th>\n",
       "    </tr>\n",
       "  </tbody>\n",
       "</table>\n",
       "<p>999 rows × 0 columns</p>\n",
       "</div>"
      ],
      "text/plain": [
       "Empty DataFrame\n",
       "Columns: []\n",
       "Index: [0, 1, 2, 3, 4, 5, 6, 7, 8, 9, 10, 11, 12, 13, 14, 15, 16, 17, 18, 19, 20, 21, 22, 23, 24, 25, 26, 27, 28, 29, 30, 31, 32, 33, 34, 35, 36, 37, 38, 39, 40, 41, 42, 43, 44, 45, 46, 47, 48, 49, 50, 51, 52, 53, 54, 55, 56, 57, 58, 59, 60, 61, 62, 63, 64, 65, 66, 67, 68, 69, 70, 71, 72, 73, 74, 75, 76, 77, 78, 79, 80, 81, 82, 83, 84, 85, 86, 87, 88, 89, 90, 91, 92, 93, 94, 95, 96, 97, 98, 99, ...]\n",
       "\n",
       "[999 rows x 0 columns]"
      ]
     },
     "execution_count": 1400,
     "metadata": {},
     "output_type": "execute_result"
    }
   ],
   "source": [
    "X"
   ]
  },
  {
   "cell_type": "code",
   "execution_count": 1399,
   "id": "bdc79f5f-64dc-46d3-8fc5-2cfb9a0f8426",
   "metadata": {},
   "outputs": [
    {
     "ename": "ValueError",
     "evalue": "at least one array or dtype is required",
     "output_type": "error",
     "traceback": [
      "\u001b[0;31m---------------------------------------------------------------------------\u001b[0m",
      "\u001b[0;31mValueError\u001b[0m                                Traceback (most recent call last)",
      "Input \u001b[0;32mIn [1399]\u001b[0m, in \u001b[0;36m<cell line: 5>\u001b[0;34m()\u001b[0m\n\u001b[1;32m      2\u001b[0m \u001b[38;5;28;01mfrom\u001b[39;00m \u001b[38;5;21;01msklearn\u001b[39;00m\u001b[38;5;21;01m.\u001b[39;00m\u001b[38;5;21;01mpreprocessing\u001b[39;00m \u001b[38;5;28;01mimport\u001b[39;00m StandardScaler\n\u001b[1;32m      4\u001b[0m \u001b[38;5;66;03m# declarar el tipo de escalamiento y aplicarlo al conjunto de datos\u001b[39;00m\n\u001b[0;32m----> 5\u001b[0m escalado \u001b[38;5;241m=\u001b[39m \u001b[43mStandardScaler\u001b[49m\u001b[43m(\u001b[49m\u001b[43m)\u001b[49m\u001b[38;5;241;43m.\u001b[39;49m\u001b[43mfit\u001b[49m\u001b[43m(\u001b[49m\u001b[43mX\u001b[49m\u001b[43m)\u001b[49m\n\u001b[1;32m      6\u001b[0m dataset_normal \u001b[38;5;241m=\u001b[39m escalado\u001b[38;5;241m.\u001b[39mtransform(X)\n\u001b[1;32m      7\u001b[0m dataset_normal\n",
      "File \u001b[0;32m/opt/conda/envs/anaconda-2022.05-py39/lib/python3.9/site-packages/sklearn/preprocessing/_data.py:806\u001b[0m, in \u001b[0;36mStandardScaler.fit\u001b[0;34m(self, X, y, sample_weight)\u001b[0m\n\u001b[1;32m    804\u001b[0m \u001b[38;5;66;03m# Reset internal state before fitting\u001b[39;00m\n\u001b[1;32m    805\u001b[0m \u001b[38;5;28mself\u001b[39m\u001b[38;5;241m.\u001b[39m_reset()\n\u001b[0;32m--> 806\u001b[0m \u001b[38;5;28;01mreturn\u001b[39;00m \u001b[38;5;28;43mself\u001b[39;49m\u001b[38;5;241;43m.\u001b[39;49m\u001b[43mpartial_fit\u001b[49m\u001b[43m(\u001b[49m\u001b[43mX\u001b[49m\u001b[43m,\u001b[49m\u001b[43m \u001b[49m\u001b[43my\u001b[49m\u001b[43m,\u001b[49m\u001b[43m \u001b[49m\u001b[43msample_weight\u001b[49m\u001b[43m)\u001b[49m\n",
      "File \u001b[0;32m/opt/conda/envs/anaconda-2022.05-py39/lib/python3.9/site-packages/sklearn/preprocessing/_data.py:841\u001b[0m, in \u001b[0;36mStandardScaler.partial_fit\u001b[0;34m(self, X, y, sample_weight)\u001b[0m\n\u001b[1;32m    809\u001b[0m \u001b[38;5;124;03m\"\"\"Online computation of mean and std on X for later scaling.\u001b[39;00m\n\u001b[1;32m    810\u001b[0m \n\u001b[1;32m    811\u001b[0m \u001b[38;5;124;03mAll of X is processed as a single batch. This is intended for cases\u001b[39;00m\n\u001b[0;32m   (...)\u001b[0m\n\u001b[1;32m    838\u001b[0m \u001b[38;5;124;03m    Fitted scaler.\u001b[39;00m\n\u001b[1;32m    839\u001b[0m \u001b[38;5;124;03m\"\"\"\u001b[39;00m\n\u001b[1;32m    840\u001b[0m first_call \u001b[38;5;241m=\u001b[39m \u001b[38;5;129;01mnot\u001b[39;00m \u001b[38;5;28mhasattr\u001b[39m(\u001b[38;5;28mself\u001b[39m, \u001b[38;5;124m\"\u001b[39m\u001b[38;5;124mn_samples_seen_\u001b[39m\u001b[38;5;124m\"\u001b[39m)\n\u001b[0;32m--> 841\u001b[0m X \u001b[38;5;241m=\u001b[39m \u001b[38;5;28;43mself\u001b[39;49m\u001b[38;5;241;43m.\u001b[39;49m\u001b[43m_validate_data\u001b[49m\u001b[43m(\u001b[49m\n\u001b[1;32m    842\u001b[0m \u001b[43m    \u001b[49m\u001b[43mX\u001b[49m\u001b[43m,\u001b[49m\n\u001b[1;32m    843\u001b[0m \u001b[43m    \u001b[49m\u001b[43maccept_sparse\u001b[49m\u001b[38;5;241;43m=\u001b[39;49m\u001b[43m(\u001b[49m\u001b[38;5;124;43m\"\u001b[39;49m\u001b[38;5;124;43mcsr\u001b[39;49m\u001b[38;5;124;43m\"\u001b[39;49m\u001b[43m,\u001b[49m\u001b[43m \u001b[49m\u001b[38;5;124;43m\"\u001b[39;49m\u001b[38;5;124;43mcsc\u001b[39;49m\u001b[38;5;124;43m\"\u001b[39;49m\u001b[43m)\u001b[49m\u001b[43m,\u001b[49m\n\u001b[1;32m    844\u001b[0m \u001b[43m    \u001b[49m\u001b[43mestimator\u001b[49m\u001b[38;5;241;43m=\u001b[39;49m\u001b[38;5;28;43mself\u001b[39;49m\u001b[43m,\u001b[49m\n\u001b[1;32m    845\u001b[0m \u001b[43m    \u001b[49m\u001b[43mdtype\u001b[49m\u001b[38;5;241;43m=\u001b[39;49m\u001b[43mFLOAT_DTYPES\u001b[49m\u001b[43m,\u001b[49m\n\u001b[1;32m    846\u001b[0m \u001b[43m    \u001b[49m\u001b[43mforce_all_finite\u001b[49m\u001b[38;5;241;43m=\u001b[39;49m\u001b[38;5;124;43m\"\u001b[39;49m\u001b[38;5;124;43mallow-nan\u001b[39;49m\u001b[38;5;124;43m\"\u001b[39;49m\u001b[43m,\u001b[49m\n\u001b[1;32m    847\u001b[0m \u001b[43m    \u001b[49m\u001b[43mreset\u001b[49m\u001b[38;5;241;43m=\u001b[39;49m\u001b[43mfirst_call\u001b[49m\u001b[43m,\u001b[49m\n\u001b[1;32m    848\u001b[0m \u001b[43m\u001b[49m\u001b[43m)\u001b[49m\n\u001b[1;32m    849\u001b[0m n_features \u001b[38;5;241m=\u001b[39m X\u001b[38;5;241m.\u001b[39mshape[\u001b[38;5;241m1\u001b[39m]\n\u001b[1;32m    851\u001b[0m \u001b[38;5;28;01mif\u001b[39;00m sample_weight \u001b[38;5;129;01mis\u001b[39;00m \u001b[38;5;129;01mnot\u001b[39;00m \u001b[38;5;28;01mNone\u001b[39;00m:\n",
      "File \u001b[0;32m/opt/conda/envs/anaconda-2022.05-py39/lib/python3.9/site-packages/sklearn/base.py:566\u001b[0m, in \u001b[0;36mBaseEstimator._validate_data\u001b[0;34m(self, X, y, reset, validate_separately, **check_params)\u001b[0m\n\u001b[1;32m    564\u001b[0m     \u001b[38;5;28;01mraise\u001b[39;00m \u001b[38;5;167;01mValueError\u001b[39;00m(\u001b[38;5;124m\"\u001b[39m\u001b[38;5;124mValidation should be done on X, y or both.\u001b[39m\u001b[38;5;124m\"\u001b[39m)\n\u001b[1;32m    565\u001b[0m \u001b[38;5;28;01melif\u001b[39;00m \u001b[38;5;129;01mnot\u001b[39;00m no_val_X \u001b[38;5;129;01mand\u001b[39;00m no_val_y:\n\u001b[0;32m--> 566\u001b[0m     X \u001b[38;5;241m=\u001b[39m \u001b[43mcheck_array\u001b[49m\u001b[43m(\u001b[49m\u001b[43mX\u001b[49m\u001b[43m,\u001b[49m\u001b[43m \u001b[49m\u001b[38;5;241;43m*\u001b[39;49m\u001b[38;5;241;43m*\u001b[39;49m\u001b[43mcheck_params\u001b[49m\u001b[43m)\u001b[49m\n\u001b[1;32m    567\u001b[0m     out \u001b[38;5;241m=\u001b[39m X\n\u001b[1;32m    568\u001b[0m \u001b[38;5;28;01melif\u001b[39;00m no_val_X \u001b[38;5;129;01mand\u001b[39;00m \u001b[38;5;129;01mnot\u001b[39;00m no_val_y:\n",
      "File \u001b[0;32m/opt/conda/envs/anaconda-2022.05-py39/lib/python3.9/site-packages/sklearn/utils/validation.py:665\u001b[0m, in \u001b[0;36mcheck_array\u001b[0;34m(array, accept_sparse, accept_large_sparse, dtype, order, copy, force_all_finite, ensure_2d, allow_nd, ensure_min_samples, ensure_min_features, estimator)\u001b[0m\n\u001b[1;32m    662\u001b[0m                     has_pd_integer_array \u001b[38;5;241m=\u001b[39m \u001b[38;5;28;01mTrue\u001b[39;00m\n\u001b[1;32m    664\u001b[0m     \u001b[38;5;28;01mif\u001b[39;00m \u001b[38;5;28mall\u001b[39m(\u001b[38;5;28misinstance\u001b[39m(dtype, np\u001b[38;5;241m.\u001b[39mdtype) \u001b[38;5;28;01mfor\u001b[39;00m dtype \u001b[38;5;129;01min\u001b[39;00m dtypes_orig):\n\u001b[0;32m--> 665\u001b[0m         dtype_orig \u001b[38;5;241m=\u001b[39m \u001b[43mnp\u001b[49m\u001b[38;5;241;43m.\u001b[39;49m\u001b[43mresult_type\u001b[49m\u001b[43m(\u001b[49m\u001b[38;5;241;43m*\u001b[39;49m\u001b[43mdtypes_orig\u001b[49m\u001b[43m)\u001b[49m\n\u001b[1;32m    667\u001b[0m \u001b[38;5;28;01mif\u001b[39;00m dtype_numeric:\n\u001b[1;32m    668\u001b[0m     \u001b[38;5;28;01mif\u001b[39;00m dtype_orig \u001b[38;5;129;01mis\u001b[39;00m \u001b[38;5;129;01mnot\u001b[39;00m \u001b[38;5;28;01mNone\u001b[39;00m \u001b[38;5;129;01mand\u001b[39;00m dtype_orig\u001b[38;5;241m.\u001b[39mkind \u001b[38;5;241m==\u001b[39m \u001b[38;5;124m\"\u001b[39m\u001b[38;5;124mO\u001b[39m\u001b[38;5;124m\"\u001b[39m:\n\u001b[1;32m    669\u001b[0m         \u001b[38;5;66;03m# if input is object, convert to float.\u001b[39;00m\n",
      "File \u001b[0;32m<__array_function__ internals>:5\u001b[0m, in \u001b[0;36mresult_type\u001b[0;34m(*args, **kwargs)\u001b[0m\n",
      "\u001b[0;31mValueError\u001b[0m: at least one array or dtype is required"
     ]
    }
   ],
   "source": [
    "# importar los objetos necesarios de la librería sklearn\n",
    "from sklearn.preprocessing import StandardScaler\n",
    "\n",
    "# declarar el tipo de escalamiento y aplicarlo al conjunto de datos\n",
    "escalado = StandardScaler().fit(X)\n",
    "dataset_normal = escalado.transform(X)\n",
    "dataset_normal"
   ]
  },
  {
   "cell_type": "code",
   "execution_count": 1379,
   "id": "561d944f-54f8-4539-9cdf-968b36f9ec39",
   "metadata": {},
   "outputs": [
    {
     "ename": "ValueError",
     "evalue": "Shape of passed values is (999, 4), indices imply (999, 0)",
     "output_type": "error",
     "traceback": [
      "\u001b[0;31m---------------------------------------------------------------------------\u001b[0m",
      "\u001b[0;31mValueError\u001b[0m                                Traceback (most recent call last)",
      "Input \u001b[0;32mIn [1379]\u001b[0m, in \u001b[0;36m<cell line: 2>\u001b[0;34m()\u001b[0m\n\u001b[1;32m      1\u001b[0m \u001b[38;5;66;03m# Lo convertimos en un DataFrame, añadiendole sus etiquetas\u001b[39;00m\n\u001b[0;32m----> 2\u001b[0m X_normal \u001b[38;5;241m=\u001b[39m \u001b[43mpd\u001b[49m\u001b[38;5;241;43m.\u001b[39;49m\u001b[43mDataFrame\u001b[49m\u001b[43m(\u001b[49m\u001b[43mdataset_normal\u001b[49m\u001b[43m,\u001b[49m\u001b[43m \u001b[49m\u001b[43mcolumns\u001b[49m\u001b[38;5;241;43m=\u001b[39;49m\u001b[43mX\u001b[49m\u001b[38;5;241;43m.\u001b[39;49m\u001b[43mcolumns\u001b[49m\u001b[43m)\u001b[49m\n\u001b[1;32m      3\u001b[0m \u001b[38;5;28mprint\u001b[39m(\u001b[38;5;28mtype\u001b[39m(X_normal))\n\u001b[1;32m      4\u001b[0m X_normal\n",
      "File \u001b[0;32m/opt/conda/envs/anaconda-2022.05-py39/lib/python3.9/site-packages/pandas/core/frame.py:694\u001b[0m, in \u001b[0;36mDataFrame.__init__\u001b[0;34m(self, data, index, columns, dtype, copy)\u001b[0m\n\u001b[1;32m    684\u001b[0m         mgr \u001b[38;5;241m=\u001b[39m dict_to_mgr(\n\u001b[1;32m    685\u001b[0m             \u001b[38;5;66;03m# error: Item \"ndarray\" of \"Union[ndarray, Series, Index]\" has no\u001b[39;00m\n\u001b[1;32m    686\u001b[0m             \u001b[38;5;66;03m# attribute \"name\"\u001b[39;00m\n\u001b[0;32m   (...)\u001b[0m\n\u001b[1;32m    691\u001b[0m             typ\u001b[38;5;241m=\u001b[39mmanager,\n\u001b[1;32m    692\u001b[0m         )\n\u001b[1;32m    693\u001b[0m     \u001b[38;5;28;01melse\u001b[39;00m:\n\u001b[0;32m--> 694\u001b[0m         mgr \u001b[38;5;241m=\u001b[39m \u001b[43mndarray_to_mgr\u001b[49m\u001b[43m(\u001b[49m\n\u001b[1;32m    695\u001b[0m \u001b[43m            \u001b[49m\u001b[43mdata\u001b[49m\u001b[43m,\u001b[49m\n\u001b[1;32m    696\u001b[0m \u001b[43m            \u001b[49m\u001b[43mindex\u001b[49m\u001b[43m,\u001b[49m\n\u001b[1;32m    697\u001b[0m \u001b[43m            \u001b[49m\u001b[43mcolumns\u001b[49m\u001b[43m,\u001b[49m\n\u001b[1;32m    698\u001b[0m \u001b[43m            \u001b[49m\u001b[43mdtype\u001b[49m\u001b[38;5;241;43m=\u001b[39;49m\u001b[43mdtype\u001b[49m\u001b[43m,\u001b[49m\n\u001b[1;32m    699\u001b[0m \u001b[43m            \u001b[49m\u001b[43mcopy\u001b[49m\u001b[38;5;241;43m=\u001b[39;49m\u001b[43mcopy\u001b[49m\u001b[43m,\u001b[49m\n\u001b[1;32m    700\u001b[0m \u001b[43m            \u001b[49m\u001b[43mtyp\u001b[49m\u001b[38;5;241;43m=\u001b[39;49m\u001b[43mmanager\u001b[49m\u001b[43m,\u001b[49m\n\u001b[1;32m    701\u001b[0m \u001b[43m        \u001b[49m\u001b[43m)\u001b[49m\n\u001b[1;32m    703\u001b[0m \u001b[38;5;66;03m# For data is list-like, or Iterable (will consume into list)\u001b[39;00m\n\u001b[1;32m    704\u001b[0m \u001b[38;5;28;01melif\u001b[39;00m is_list_like(data):\n",
      "File \u001b[0;32m/opt/conda/envs/anaconda-2022.05-py39/lib/python3.9/site-packages/pandas/core/internals/construction.py:351\u001b[0m, in \u001b[0;36mndarray_to_mgr\u001b[0;34m(values, index, columns, dtype, copy, typ)\u001b[0m\n\u001b[1;32m    346\u001b[0m \u001b[38;5;66;03m# _prep_ndarray ensures that values.ndim == 2 at this point\u001b[39;00m\n\u001b[1;32m    347\u001b[0m index, columns \u001b[38;5;241m=\u001b[39m _get_axes(\n\u001b[1;32m    348\u001b[0m     values\u001b[38;5;241m.\u001b[39mshape[\u001b[38;5;241m0\u001b[39m], values\u001b[38;5;241m.\u001b[39mshape[\u001b[38;5;241m1\u001b[39m], index\u001b[38;5;241m=\u001b[39mindex, columns\u001b[38;5;241m=\u001b[39mcolumns\n\u001b[1;32m    349\u001b[0m )\n\u001b[0;32m--> 351\u001b[0m \u001b[43m_check_values_indices_shape_match\u001b[49m\u001b[43m(\u001b[49m\u001b[43mvalues\u001b[49m\u001b[43m,\u001b[49m\u001b[43m \u001b[49m\u001b[43mindex\u001b[49m\u001b[43m,\u001b[49m\u001b[43m \u001b[49m\u001b[43mcolumns\u001b[49m\u001b[43m)\u001b[49m\n\u001b[1;32m    353\u001b[0m \u001b[38;5;28;01mif\u001b[39;00m typ \u001b[38;5;241m==\u001b[39m \u001b[38;5;124m\"\u001b[39m\u001b[38;5;124marray\u001b[39m\u001b[38;5;124m\"\u001b[39m:\n\u001b[1;32m    355\u001b[0m     \u001b[38;5;28;01mif\u001b[39;00m \u001b[38;5;28missubclass\u001b[39m(values\u001b[38;5;241m.\u001b[39mdtype\u001b[38;5;241m.\u001b[39mtype, \u001b[38;5;28mstr\u001b[39m):\n",
      "File \u001b[0;32m/opt/conda/envs/anaconda-2022.05-py39/lib/python3.9/site-packages/pandas/core/internals/construction.py:422\u001b[0m, in \u001b[0;36m_check_values_indices_shape_match\u001b[0;34m(values, index, columns)\u001b[0m\n\u001b[1;32m    420\u001b[0m passed \u001b[38;5;241m=\u001b[39m values\u001b[38;5;241m.\u001b[39mshape\n\u001b[1;32m    421\u001b[0m implied \u001b[38;5;241m=\u001b[39m (\u001b[38;5;28mlen\u001b[39m(index), \u001b[38;5;28mlen\u001b[39m(columns))\n\u001b[0;32m--> 422\u001b[0m \u001b[38;5;28;01mraise\u001b[39;00m \u001b[38;5;167;01mValueError\u001b[39;00m(\u001b[38;5;124mf\u001b[39m\u001b[38;5;124m\"\u001b[39m\u001b[38;5;124mShape of passed values is \u001b[39m\u001b[38;5;132;01m{\u001b[39;00mpassed\u001b[38;5;132;01m}\u001b[39;00m\u001b[38;5;124m, indices imply \u001b[39m\u001b[38;5;132;01m{\u001b[39;00mimplied\u001b[38;5;132;01m}\u001b[39;00m\u001b[38;5;124m\"\u001b[39m)\n",
      "\u001b[0;31mValueError\u001b[0m: Shape of passed values is (999, 4), indices imply (999, 0)"
     ]
    }
   ],
   "source": [
    "# Lo convertimos en un DataFrame, añadiendole sus etiquetas\n",
    "X_normal = pd.DataFrame(dataset_normal, columns=X.columns)\n",
    "print(type(X_normal))\n",
    "X_normal"
   ]
  },
  {
   "cell_type": "code",
   "execution_count": 1380,
   "id": "54bb06ec-f410-4fe2-b16a-59c90ed2ba02",
   "metadata": {},
   "outputs": [
    {
     "data": {
      "text/html": [
       "<div>\n",
       "<style scoped>\n",
       "    .dataframe tbody tr th:only-of-type {\n",
       "        vertical-align: middle;\n",
       "    }\n",
       "\n",
       "    .dataframe tbody tr th {\n",
       "        vertical-align: top;\n",
       "    }\n",
       "\n",
       "    .dataframe thead th {\n",
       "        text-align: right;\n",
       "    }\n",
       "</style>\n",
       "<table border=\"1\" class=\"dataframe\">\n",
       "  <thead>\n",
       "    <tr style=\"text-align: right;\">\n",
       "      <th></th>\n",
       "      <th>Released_Year</th>\n",
       "      <th>Runtime</th>\n",
       "      <th>No_of_Votes</th>\n",
       "      <th>Director_numerico</th>\n",
       "    </tr>\n",
       "  </thead>\n",
       "  <tbody>\n",
       "    <tr>\n",
       "      <th>count</th>\n",
       "      <td>999.0000</td>\n",
       "      <td>999.0000</td>\n",
       "      <td>999.0000</td>\n",
       "      <td>999.0000</td>\n",
       "    </tr>\n",
       "    <tr>\n",
       "      <th>mean</th>\n",
       "      <td>-0.0000</td>\n",
       "      <td>-0.0000</td>\n",
       "      <td>0.0000</td>\n",
       "      <td>-0.0000</td>\n",
       "    </tr>\n",
       "    <tr>\n",
       "      <th>std</th>\n",
       "      <td>1.0005</td>\n",
       "      <td>1.0005</td>\n",
       "      <td>1.0005</td>\n",
       "      <td>1.0005</td>\n",
       "    </tr>\n",
       "    <tr>\n",
       "      <th>min</th>\n",
       "      <td>-3.0585</td>\n",
       "      <td>-2.7725</td>\n",
       "      <td>-0.7594</td>\n",
       "      <td>-1.6324</td>\n",
       "    </tr>\n",
       "    <tr>\n",
       "      <th>25%</th>\n",
       "      <td>-0.6535</td>\n",
       "      <td>-0.7075</td>\n",
       "      <td>-0.6666</td>\n",
       "      <td>-0.8971</td>\n",
       "    </tr>\n",
       "    <tr>\n",
       "      <th>50%</th>\n",
       "      <td>0.3342</td>\n",
       "      <td>-0.1379</td>\n",
       "      <td>-0.4134</td>\n",
       "      <td>-0.0630</td>\n",
       "    </tr>\n",
       "    <tr>\n",
       "      <th>75%</th>\n",
       "      <td>0.7637</td>\n",
       "      <td>0.5029</td>\n",
       "      <td>0.3078</td>\n",
       "      <td>0.9071</td>\n",
       "    </tr>\n",
       "    <tr>\n",
       "      <th>max</th>\n",
       "      <td>1.2361</td>\n",
       "      <td>7.0537</td>\n",
       "      <td>6.3213</td>\n",
       "      <td>1.7475</td>\n",
       "    </tr>\n",
       "  </tbody>\n",
       "</table>\n",
       "</div>"
      ],
      "text/plain": [
       "       Released_Year   Runtime  No_of_Votes  Director_numerico\n",
       "count       999.0000  999.0000     999.0000           999.0000\n",
       "mean         -0.0000   -0.0000       0.0000            -0.0000\n",
       "std           1.0005    1.0005       1.0005             1.0005\n",
       "min          -3.0585   -2.7725      -0.7594            -1.6324\n",
       "25%          -0.6535   -0.7075      -0.6666            -0.8971\n",
       "50%           0.3342   -0.1379      -0.4134            -0.0630\n",
       "75%           0.7637    0.5029       0.3078             0.9071\n",
       "max           1.2361    7.0537       6.3213             1.7475"
      ]
     },
     "execution_count": 1380,
     "metadata": {},
     "output_type": "execute_result"
    }
   ],
   "source": [
    "X_normal.describe().round(4)"
   ]
  },
  {
   "cell_type": "code",
   "execution_count": 1381,
   "id": "1be32771-7c60-465b-99fc-ac4af7839a14",
   "metadata": {},
   "outputs": [
    {
     "data": {
      "image/png": "[encoded data removed]",
      "text/plain": [
       "<Figure size 1440x432 with 1 Axes>"
      ]
     },
     "metadata": {
      "needs_background": "light"
     },
     "output_type": "display_data"
    }
   ],
   "source": [
    "# Graficar la distribución de los valores estandarizados\n",
    "plt.figure(figsize=(20,6))\n",
    "sns.boxplot(data=X_normal,  orient='v')\n",
    "plt.show()"
   ]
  },
  {
   "cell_type": "code",
   "execution_count": null,
   "id": "6c3126f4-05be-4f7d-9795-6403a05e090c",
   "metadata": {},
   "outputs": [],
   "source": []
  }
 ],
 "metadata": {
  "kernelspec": {
   "display_name": "anaconda-2022.05-py39",
   "language": "python",
   "name": "conda-env-anaconda-2022.05-py39-py"
  },
  "language_info": {
   "codemirror_mode": {
    "name": "ipython",
    "version": 3
   },
   "file_extension": ".py",
   "mimetype": "text/x-python",
   "name": "python",
   "nbconvert_exporter": "python",
   "pygments_lexer": "ipython3",
   "version": "3.9.12"
  }
 },
 "nbformat": 4,
 "nbformat_minor": 5
}
